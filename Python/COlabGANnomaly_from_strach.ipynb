{
  "cells": [
    {
      "cell_type": "code",
      "execution_count": 2,
      "metadata": {
        "id": "MCEyvpuSy0mu"
      },
      "outputs": [],
      "source": [
        "import tensorflow as tf \n",
        "from tensorflow import keras\n",
        "import keras.backend as K \n",
        "from keras import layers\n",
        "import matplotlib.pyplot as plt \n",
        "import os \n",
        "import numpy as np"
      ]
    },
    {
      "cell_type": "code",
      "source": [
        "from google.colab import drive\n",
        "drive.mount('/content/drive')"
      ],
      "metadata": {
        "colab": {
          "base_uri": "https://localhost:8080/"
        },
        "id": "TsXEiWw9y2yg",
        "outputId": "f7b8c5c9-3c64-491a-de42-00ace18c2fe6"
      },
      "execution_count": 3,
      "outputs": [
        {
          "output_type": "stream",
          "name": "stdout",
          "text": [
            "Drive already mounted at /content/drive; to attempt to forcibly remount, call drive.mount(\"/content/drive\", force_remount=True).\n"
          ]
        }
      ]
    },
    {
      "cell_type": "markdown",
      "metadata": {
        "id": "rMxWv2qLy0mw"
      },
      "source": [
        "# GANomaly"
      ]
    },
    {
      "cell_type": "markdown",
      "metadata": {
        "id": "4_boCR79y0my"
      },
      "source": [
        "# 1 Model "
      ]
    },
    {
      "cell_type": "markdown",
      "metadata": {
        "id": "hybM-17Yy0my"
      },
      "source": [
        "Model has two parts :\n",
        "1. Generator = Generator Encoder ==> Generator Decoder ==> Encoder \n",
        "2. Discrimator = Feature Extractor ==> Sigmoid  "
      ]
    },
    {
      "cell_type": "markdown",
      "metadata": {
        "id": "JkO_BL0yy0my"
      },
      "source": [
        "## 1.1 Define Global Parameters "
      ]
    },
    {
      "cell_type": "code",
      "execution_count": 4,
      "metadata": {
        "colab": {
          "base_uri": "https://localhost:8080/"
        },
        "id": "FOYLXpcpy0mz",
        "outputId": "9a38d0a3-7d17-48c6-f06c-3283937439ed"
      },
      "outputs": [
        {
          "output_type": "stream",
          "name": "stdout",
          "text": [
            "The shape of image is (360, 640, 3)\n"
          ]
        }
      ],
      "source": [
        "path = r\"/content/drive/MyDrive/Monument/Train/real\"\n",
        "img_name = \"15.jpg\"\n",
        "path = os.path.join(path,img_name)\n",
        "\n",
        "img = keras.utils.load_img(path)\n",
        "img_array = keras.utils.img_to_array(img)\n",
        "\n",
        "print(f\"The shape of image is {img_array.shape}\")"
      ]
    },
    {
      "cell_type": "code",
      "execution_count": 5,
      "metadata": {
        "colab": {
          "base_uri": "https://localhost:8080/"
        },
        "id": "WDHiCaJmy0mz",
        "outputId": "b912d564-bf83-4994-8ee7-a58aab604b9c"
      },
      "outputs": [
        {
          "output_type": "stream",
          "name": "stdout",
          "text": [
            "The Height is 360\n",
            "The Width is 640\n",
            "The Channel is 3\n"
          ]
        }
      ],
      "source": [
        "# Sort out the basic parameters\n",
        "HEIGHT = img_array.shape[0]\n",
        "WIDTH = img_array.shape[1]\n",
        "CHANNEL = img_array.shape[2]\n",
        "print(f\"The Height is {HEIGHT}\")\n",
        "print(f\"The Width is {WIDTH}\")\n",
        "print(f\"The Channel is {CHANNEL}\")"
      ]
    },
    {
      "cell_type": "code",
      "execution_count": 6,
      "metadata": {
        "id": "ScJUU82Dy0m0"
      },
      "outputs": [],
      "source": [
        "K.clear_session()"
      ]
    },
    {
      "cell_type": "markdown",
      "metadata": {
        "id": "Z5K88QMuy0m0"
      },
      "source": [
        "## 1.2 Generator"
      ]
    },
    {
      "cell_type": "markdown",
      "metadata": {
        "id": "DrT_Wysky0m1"
      },
      "source": [
        "### 1.2.1 Generator Encoder"
      ]
    },
    {
      "cell_type": "code",
      "execution_count": 7,
      "metadata": {
        "id": "qwRiFvXWy0m1"
      },
      "outputs": [],
      "source": [
        "def Generator_Encoder():\n",
        "    input_layer = layers.Input(name=\"input\",shape=(HEIGHT,WIDTH,CHANNEL))\n",
        "    x = layers.Conv2D(32,(5,5),strides=(1,1),padding =\"same\",name= \"conv_1\",kernel_regularizer=\"l2\")(input_layer)\n",
        "    x = layers.LeakyReLU(name=\"leaky_1\")(x)\n",
        "    x = layers.MaxPooling2D()(x)\n",
        "\n",
        "\n",
        "    x = layers.Conv2D(64,(3,3),strides=(2,2),padding =\"same\",name= \"conv_2\",kernel_regularizer=\"l2\")(x)\n",
        "    x = layers.BatchNormalization(name=\"norm_1\")(x)\n",
        "    x = layers.LeakyReLU(name=\"leaky_2\")(x)\n",
        "\n",
        "    x = layers.MaxPooling2D()(x)\n",
        "\n",
        "\n",
        "    x = layers.Conv2D(128,(3,3),strides=(2,2),padding =\"same\",name= \"conv_3\",kernel_regularizer=\"l2\")(x)\n",
        "    x = layers.BatchNormalization(name=\"norm_2\")(x)\n",
        "    x = layers.LeakyReLU(name=\"leaky_3\")(x)\n",
        "    \n",
        "    # x = layers.MaxPooling2D()(x)\n",
        "    \n",
        "    x = layers.Conv2D(240,(3,3),strides=(2,2),padding =\"same\",name= \"conv_4\",kernel_regularizer=\"l2\")(x)\n",
        "    x = layers.BatchNormalization(name=\"norm_3\")(x)\n",
        "    x = layers.LeakyReLU(name=\"leaky_4\")(x)\n",
        "\n",
        "    # x = layers.Conv2D(512,(3,3),strides=(2,2),padding =\"same\",name= \"conv_5\",kernel_regularizer=\"l2\")(x)\n",
        "    # x = layers.BatchNormalization(name=\"norm_4\")(x)\n",
        "    # x = layers.LeakyReLU(name=\"leaky_5\")(x)\n",
        "\n",
        "    # x = layers.Conv2D(1024,(3,3),strides=(2,2),padding =\"same\",name= \"conv_6\",kernel_regularizer=\"l2\")(x)\n",
        "    # x = layers.BatchNormalization(name=\"norm_5\")(x)\n",
        "    # x = layers.LeakyReLU(name=\"leaky_6\")(x)\n",
        "\n",
        "    x = layers.GlobalAveragePooling2D(name = \"g_encoder_output\")(x)\n",
        "\n",
        "    return keras.Model(inputs =input_layer,outputs =x)"
      ]
    },
    {
      "cell_type": "code",
      "execution_count": 8,
      "metadata": {
        "colab": {
          "base_uri": "https://localhost:8080/"
        },
        "id": "_234okxhy0m2",
        "outputId": "60fc4a54-d34b-4d9d-f795-7310b60daab1"
      },
      "outputs": [
        {
          "output_type": "stream",
          "name": "stdout",
          "text": [
            "Model: \"model\"\n",
            "_________________________________________________________________\n",
            " Layer (type)                Output Shape              Param #   \n",
            "=================================================================\n",
            " input (InputLayer)          [(None, 360, 640, 3)]     0         \n",
            "                                                                 \n",
            " conv_1 (Conv2D)             (None, 360, 640, 32)      2432      \n",
            "                                                                 \n",
            " leaky_1 (LeakyReLU)         (None, 360, 640, 32)      0         \n",
            "                                                                 \n",
            " max_pooling2d (MaxPooling2D  (None, 180, 320, 32)     0         \n",
            " )                                                               \n",
            "                                                                 \n",
            " conv_2 (Conv2D)             (None, 90, 160, 64)       18496     \n",
            "                                                                 \n",
            " norm_1 (BatchNormalization)  (None, 90, 160, 64)      256       \n",
            "                                                                 \n",
            " leaky_2 (LeakyReLU)         (None, 90, 160, 64)       0         \n",
            "                                                                 \n",
            " max_pooling2d_1 (MaxPooling  (None, 45, 80, 64)       0         \n",
            " 2D)                                                             \n",
            "                                                                 \n",
            " conv_3 (Conv2D)             (None, 23, 40, 128)       73856     \n",
            "                                                                 \n",
            " norm_2 (BatchNormalization)  (None, 23, 40, 128)      512       \n",
            "                                                                 \n",
            " leaky_3 (LeakyReLU)         (None, 23, 40, 128)       0         \n",
            "                                                                 \n",
            " conv_4 (Conv2D)             (None, 12, 20, 240)       276720    \n",
            "                                                                 \n",
            " norm_3 (BatchNormalization)  (None, 12, 20, 240)      960       \n",
            "                                                                 \n",
            " leaky_4 (LeakyReLU)         (None, 12, 20, 240)       0         \n",
            "                                                                 \n",
            " g_encoder_output (GlobalAve  (None, 240)              0         \n",
            " ragePooling2D)                                                  \n",
            "                                                                 \n",
            "=================================================================\n",
            "Total params: 373,232\n",
            "Trainable params: 372,368\n",
            "Non-trainable params: 864\n",
            "_________________________________________________________________\n"
          ]
        }
      ],
      "source": [
        "g_e = Generator_Encoder()\n",
        "g_e.summary()"
      ]
    },
    {
      "cell_type": "markdown",
      "metadata": {
        "id": "2SH9h5VGy0m2"
      },
      "source": [
        "### 1.2.2 Generator "
      ]
    },
    {
      "cell_type": "code",
      "execution_count": 9,
      "metadata": {
        "id": "SG9hE1Dyy0m2"
      },
      "outputs": [],
      "source": [
        "def Generator():\n",
        "    g_e  = Generator_Encoder()\n",
        "    input_layer = layers.Input(name=\"input\",shape=(HEIGHT,WIDTH,CHANNEL))\n",
        "\n",
        "    x = g_e(input_layer)\n",
        "    height = np.int64(HEIGHT//30)\n",
        "    width = np.int64(WIDTH//32)\n",
        "    x = layers.Dense(height*width*240,name=\"dense\")(x)\n",
        "    x = layers.Reshape((height,width,240),name=\"de_reshape\")(x)\n",
        "\n",
        "    x = layers.Conv2DTranspose(240,(4,4),strides =(2,2),padding = \"same\",name=\"deconv_1\",kernel_regularizer=\"l2\")(x)\n",
        "    x = layers.LeakyReLU(name=\"de_leaky_1\")(x)\n",
        "\n",
        "    # x = layers.Conv2DTranspose(256,(3,3),strides =(2,2),padding = \"same\",name=\"deconv_2\",kernel_regularizer=\"l2\")(x)\n",
        "    # x = layers.LeakyReLU(name=\"de_leaky_2\")(x)\n",
        "\n",
        "    x = layers.Conv2DTranspose(128,(2,2),strides =(2,2),padding = \"same\",name=\"deconv_3\",kernel_regularizer=\"l2\")(x)\n",
        "    x = layers.LeakyReLU(name=\"de_leaky_3\")(x)\n",
        "    \n",
        "\n",
        "    x = layers.Conv2DTranspose(64,(2,2),strides =(2,2),padding = \"same\",name=\"deconv_4\",kernel_regularizer=\"l2\")(x)\n",
        "    x = layers.LeakyReLU(name=\"de_leaky_4\")(x)\n",
        "\n",
        "    x = layers.Conv2DTranspose(32,(2,2),strides =(2,2),padding = \"same\",name=\"deconv_5\",kernel_regularizer=\"l2\")(x)\n",
        "    x = layers.LeakyReLU(name=\"de_leaky_5\")(x)\n",
        "    \n",
        "    x = layers.Conv2DTranspose(16,(2,2),strides =(2,2),padding = \"same\",name=\"deconv_6\",kernel_regularizer=\"l2\")(x)\n",
        "    x = layers.LeakyReLU(name=\"de_leaky_6\")(x)\n",
        "    \n",
        "\n",
        "    x = layers.Conv2DTranspose(CHANNEL,(1,1),strides= (1,1),padding =\"same\",name=\"decoder_deconv_output\",kernel_regularizer = \"l2\",activation=\"tanh\")(x)\n",
        "\n",
        "    x = layers.Resizing(HEIGHT,WIDTH)(x)\n",
        "    return keras.Model(inputs =input_layer,outputs=x)\n",
        "    \n",
        "    "
      ]
    },
    {
      "cell_type": "code",
      "execution_count": 10,
      "metadata": {
        "colab": {
          "base_uri": "https://localhost:8080/"
        },
        "id": "csBOPeL9y0m3",
        "outputId": "9b6645cf-0d22-43f2-ea1e-afe409ad1199"
      },
      "outputs": [
        {
          "output_type": "stream",
          "name": "stdout",
          "text": [
            "Model: \"model_1\"\n",
            "_________________________________________________________________\n",
            " Layer (type)                Output Shape              Param #   \n",
            "=================================================================\n",
            " input (InputLayer)          [(None, 360, 640, 3)]     0         \n",
            "                                                                 \n",
            " model (Functional)          (None, 240)               373232    \n",
            "                                                                 \n",
            " dense (Dense)               (None, 57600)             13881600  \n",
            "                                                                 \n",
            " de_reshape (Reshape)        (None, 12, 20, 240)       0         \n",
            "                                                                 \n",
            " deconv_1 (Conv2DTranspose)  (None, 24, 40, 240)       921840    \n",
            "                                                                 \n",
            " de_leaky_1 (LeakyReLU)      (None, 24, 40, 240)       0         \n",
            "                                                                 \n",
            " deconv_3 (Conv2DTranspose)  (None, 48, 80, 128)       123008    \n",
            "                                                                 \n",
            " de_leaky_3 (LeakyReLU)      (None, 48, 80, 128)       0         \n",
            "                                                                 \n",
            " deconv_4 (Conv2DTranspose)  (None, 96, 160, 64)       32832     \n",
            "                                                                 \n",
            " de_leaky_4 (LeakyReLU)      (None, 96, 160, 64)       0         \n",
            "                                                                 \n",
            " deconv_5 (Conv2DTranspose)  (None, 192, 320, 32)      8224      \n",
            "                                                                 \n",
            " de_leaky_5 (LeakyReLU)      (None, 192, 320, 32)      0         \n",
            "                                                                 \n",
            " deconv_6 (Conv2DTranspose)  (None, 384, 640, 16)      2064      \n",
            "                                                                 \n",
            " de_leaky_6 (LeakyReLU)      (None, 384, 640, 16)      0         \n",
            "                                                                 \n",
            " decoder_deconv_output (Conv  (None, 384, 640, 3)      51        \n",
            " 2DTranspose)                                                    \n",
            "                                                                 \n",
            " resizing (Resizing)         (None, 360, 640, 3)       0         \n",
            "                                                                 \n",
            "=================================================================\n",
            "Total params: 15,342,851\n",
            "Trainable params: 15,341,987\n",
            "Non-trainable params: 864\n",
            "_________________________________________________________________\n"
          ]
        }
      ],
      "source": [
        "K.clear_session()\n",
        "g = Generator()\n",
        "g.summary()"
      ]
    },
    {
      "cell_type": "markdown",
      "metadata": {
        "id": "aPFGBw0My0m3"
      },
      "source": [
        "### 1.2.3 Encoder "
      ]
    },
    {
      "cell_type": "code",
      "execution_count": 11,
      "metadata": {
        "id": "lGWWkR32y0m4"
      },
      "outputs": [],
      "source": [
        "def Encoder():\n",
        "    input_layer = layers.Input(name=\"encoder_input\",shape=(HEIGHT,WIDTH,CHANNEL))\n",
        "    x = layers.Conv2D(32,(5,5),strides=(1,1),padding =\"same\",name= \"encoder_conv_1\",kernel_regularizer=\"l2\")(input_layer)\n",
        "    x = layers.LeakyReLU(name=\"encoder_leaky_1\")(x)\n",
        "    x = layers.MaxPooling2D()(x)\n",
        "\n",
        "\n",
        "    x = layers.Conv2D(64,(3,3),strides=(2,2),padding =\"same\",name= \"encoder_conv_2\",kernel_regularizer=\"l2\")(x)\n",
        "    x = layers.BatchNormalization(name=\"encoder_norm_1\")(x)\n",
        "    x = layers.LeakyReLU(name=\"encoder_leaky_2\")(x)\n",
        "\n",
        "    x = layers.MaxPooling2D()(x)\n",
        "\n",
        "\n",
        "    x = layers.Conv2D(128,(3,3),strides=(2,2),padding =\"same\",name= \"encoder_conv_3\",kernel_regularizer=\"l2\")(x)\n",
        "    x = layers.BatchNormalization(name=\"encoder_norm_2\")(x)\n",
        "    x = layers.LeakyReLU(name=\"encoder_leaky_3\")(x)\n",
        "    \n",
        "    # x = layers.MaxPooling2D()(x)\n",
        "    \n",
        "    x = layers.Conv2D(240,(3,3),strides=(2,2),padding =\"same\",name= \"encoder_conv_4\",kernel_regularizer=\"l2\")(x)\n",
        "    x = layers.BatchNormalization(name=\"encoder_norm_3\")(x)\n",
        "    x = layers.LeakyReLU(name=\"encoder_leaky_4\")(x)\n",
        "\n",
        "    # x = layers.Conv2D(512,(3,3),strides=(2,2),padding =\"same\",name= \"conv_5\",kernel_regularizer=\"l2\")(x)\n",
        "    # x = layers.BatchNormalization(name=\"norm_4\")(x)\n",
        "    # x = layers.LeakyReLU(name=\"leaky_5\")(x)\n",
        "\n",
        "    # x = layers.Conv2D(1024,(3,3),strides=(2,2),padding =\"same\",name= \"conv_6\",kernel_regularizer=\"l2\")(x)\n",
        "    # x = layers.BatchNormalization(name=\"norm_5\")(x)\n",
        "    # x = layers.LeakyReLU(name=\"leaky_6\")(x)\n",
        "\n",
        "    x = layers.GlobalAveragePooling2D(name = \"encoder_output\")(x)\n",
        "\n",
        "    return keras.Model(inputs =input_layer,outputs =x)"
      ]
    },
    {
      "cell_type": "code",
      "execution_count": 12,
      "metadata": {
        "colab": {
          "base_uri": "https://localhost:8080/"
        },
        "id": "HfWJKGISy0m5",
        "outputId": "48b2e799-16e6-48b8-949c-e1920bcb5e80"
      },
      "outputs": [
        {
          "output_type": "stream",
          "name": "stdout",
          "text": [
            "Model: \"model\"\n",
            "_________________________________________________________________\n",
            " Layer (type)                Output Shape              Param #   \n",
            "=================================================================\n",
            " encoder_input (InputLayer)  [(None, 360, 640, 3)]     0         \n",
            "                                                                 \n",
            " encoder_conv_1 (Conv2D)     (None, 360, 640, 32)      2432      \n",
            "                                                                 \n",
            " encoder_leaky_1 (LeakyReLU)  (None, 360, 640, 32)     0         \n",
            "                                                                 \n",
            " max_pooling2d (MaxPooling2D  (None, 180, 320, 32)     0         \n",
            " )                                                               \n",
            "                                                                 \n",
            " encoder_conv_2 (Conv2D)     (None, 90, 160, 64)       18496     \n",
            "                                                                 \n",
            " encoder_norm_1 (BatchNormal  (None, 90, 160, 64)      256       \n",
            " ization)                                                        \n",
            "                                                                 \n",
            " encoder_leaky_2 (LeakyReLU)  (None, 90, 160, 64)      0         \n",
            "                                                                 \n",
            " max_pooling2d_1 (MaxPooling  (None, 45, 80, 64)       0         \n",
            " 2D)                                                             \n",
            "                                                                 \n",
            " encoder_conv_3 (Conv2D)     (None, 23, 40, 128)       73856     \n",
            "                                                                 \n",
            " encoder_norm_2 (BatchNormal  (None, 23, 40, 128)      512       \n",
            " ization)                                                        \n",
            "                                                                 \n",
            " encoder_leaky_3 (LeakyReLU)  (None, 23, 40, 128)      0         \n",
            "                                                                 \n",
            " encoder_conv_4 (Conv2D)     (None, 12, 20, 240)       276720    \n",
            "                                                                 \n",
            " encoder_norm_3 (BatchNormal  (None, 12, 20, 240)      960       \n",
            " ization)                                                        \n",
            "                                                                 \n",
            " encoder_leaky_4 (LeakyReLU)  (None, 12, 20, 240)      0         \n",
            "                                                                 \n",
            " encoder_output (GlobalAvera  (None, 240)              0         \n",
            " gePooling2D)                                                    \n",
            "                                                                 \n",
            "=================================================================\n",
            "Total params: 373,232\n",
            "Trainable params: 372,368\n",
            "Non-trainable params: 864\n",
            "_________________________________________________________________\n"
          ]
        }
      ],
      "source": [
        "K.clear_session()\n",
        "encoder = Encoder()\n",
        "encoder.summary()"
      ]
    },
    {
      "cell_type": "markdown",
      "metadata": {
        "id": "fkDCMjwVy0m5"
      },
      "source": [
        "## 1.3 Discrimator "
      ]
    },
    {
      "cell_type": "markdown",
      "metadata": {
        "id": "1QkfQeBqy0m5"
      },
      "source": [
        "### 1.3.1 Feature Extractor"
      ]
    },
    {
      "cell_type": "code",
      "execution_count": 13,
      "metadata": {
        "id": "zpHlCgFvy0m5"
      },
      "outputs": [],
      "source": [
        "def Feature_Extractor():\n",
        "    input_layer = layers.Input(name=\"extractor_input\",shape=(HEIGHT,WIDTH,CHANNEL))\n",
        "    x = layers.Conv2D(32,(5,5),strides=(1,1),padding =\"same\",name= \"extractor_conv_1\",kernel_regularizer=\"l2\")(input_layer)\n",
        "    x = layers.LeakyReLU(name=\"extractor_leaky_1\")(x)\n",
        "    x = layers.MaxPooling2D()(x)\n",
        "\n",
        "\n",
        "    x = layers.Conv2D(64,(3,3),strides=(2,2),padding =\"same\",name= \"extractor_conv_2\",kernel_regularizer=\"l2\")(x)\n",
        "    x = layers.BatchNormalization(name=\"extractor_norm_1\")(x)\n",
        "    x = layers.LeakyReLU(name=\"extractor_leaky_2\")(x)\n",
        "\n",
        "    x = layers.MaxPooling2D()(x)\n",
        "\n",
        "\n",
        "    x = layers.Conv2D(128,(3,3),strides=(2,2),padding =\"same\",name= \"extractor_conv_3\",kernel_regularizer=\"l2\")(x)\n",
        "    x = layers.BatchNormalization(name=\"extractor_norm_2\")(x)\n",
        "    x = layers.LeakyReLU(name=\"extractor_leaky_3\")(x)\n",
        "    \n",
        "    # x = layers.MaxPooling2D()(x)\n",
        "    \n",
        "    x = layers.Conv2D(240,(3,3),strides=(2,2),padding =\"same\",name= \"extractor_conv_4\",kernel_regularizer=\"l2\")(x)\n",
        "    x = layers.BatchNormalization(name=\"extractor_norm_3\")(x)\n",
        "    x = layers.LeakyReLU(name=\"extractor_leaky_4\")(x)\n",
        "\n",
        "    # x = layers.Conv2D(512,(3,3),strides=(2,2),padding =\"same\",name= \"conv_5\",kernel_regularizer=\"l2\")(x)\n",
        "    # x = layers.BatchNormalization(name=\"norm_4\")(x)\n",
        "    # x = layers.LeakyReLU(name=\"leaky_5\")(x)\n",
        "\n",
        "    # x = layers.Conv2D(1024,(3,3),strides=(2,2),padding =\"same\",name= \"conv_6\",kernel_regularizer=\"l2\")(x)\n",
        "    # x = layers.BatchNormalization(name=\"norm_5\")(x)\n",
        "    # x = layers.LeakyReLU(name=\"leaky_6\")(x)\n",
        "\n",
        "    # x = layers.GlobalAveragePooling2D(name = \"extractor_output\")(x)\n",
        "\n",
        "    return keras.Model(inputs =input_layer,outputs =x)"
      ]
    },
    {
      "cell_type": "code",
      "execution_count": 14,
      "metadata": {
        "colab": {
          "base_uri": "https://localhost:8080/"
        },
        "id": "T7kiBEVvy0m6",
        "outputId": "2dbace7c-fad1-4d24-ef6b-040aea0a4144"
      },
      "outputs": [
        {
          "output_type": "stream",
          "name": "stdout",
          "text": [
            "Model: \"model_1\"\n",
            "_________________________________________________________________\n",
            " Layer (type)                Output Shape              Param #   \n",
            "=================================================================\n",
            " extractor_input (InputLayer  [(None, 360, 640, 3)]    0         \n",
            " )                                                               \n",
            "                                                                 \n",
            " extractor_conv_1 (Conv2D)   (None, 360, 640, 32)      2432      \n",
            "                                                                 \n",
            " extractor_leaky_1 (LeakyReL  (None, 360, 640, 32)     0         \n",
            " U)                                                              \n",
            "                                                                 \n",
            " max_pooling2d_2 (MaxPooling  (None, 180, 320, 32)     0         \n",
            " 2D)                                                             \n",
            "                                                                 \n",
            " extractor_conv_2 (Conv2D)   (None, 90, 160, 64)       18496     \n",
            "                                                                 \n",
            " extractor_norm_1 (BatchNorm  (None, 90, 160, 64)      256       \n",
            " alization)                                                      \n",
            "                                                                 \n",
            " extractor_leaky_2 (LeakyReL  (None, 90, 160, 64)      0         \n",
            " U)                                                              \n",
            "                                                                 \n",
            " max_pooling2d_3 (MaxPooling  (None, 45, 80, 64)       0         \n",
            " 2D)                                                             \n",
            "                                                                 \n",
            " extractor_conv_3 (Conv2D)   (None, 23, 40, 128)       73856     \n",
            "                                                                 \n",
            " extractor_norm_2 (BatchNorm  (None, 23, 40, 128)      512       \n",
            " alization)                                                      \n",
            "                                                                 \n",
            " extractor_leaky_3 (LeakyReL  (None, 23, 40, 128)      0         \n",
            " U)                                                              \n",
            "                                                                 \n",
            " extractor_conv_4 (Conv2D)   (None, 12, 20, 240)       276720    \n",
            "                                                                 \n",
            " extractor_norm_3 (BatchNorm  (None, 12, 20, 240)      960       \n",
            " alization)                                                      \n",
            "                                                                 \n",
            " extractor_leaky_4 (LeakyReL  (None, 12, 20, 240)      0         \n",
            " U)                                                              \n",
            "                                                                 \n",
            "=================================================================\n",
            "Total params: 373,232\n",
            "Trainable params: 372,368\n",
            "Non-trainable params: 864\n",
            "_________________________________________________________________\n"
          ]
        }
      ],
      "source": [
        "ex = Feature_Extractor()\n",
        "ex.summary()"
      ]
    },
    {
      "cell_type": "markdown",
      "metadata": {
        "id": "9hYNrA-Ay0m6"
      },
      "source": [
        "### 1.3.2 Discrimator "
      ]
    },
    {
      "cell_type": "code",
      "execution_count": 15,
      "metadata": {
        "id": "hB1BESuRy0m7"
      },
      "outputs": [],
      "source": [
        "def Discrimator():\n",
        "    feature_extractor = Feature_Extractor()\n",
        "\n",
        "    input_layer= layers.Input(name=\"input\",shape=(HEIGHT,WIDTH,CHANNEL))\n",
        "    x = feature_extractor(input_layer)\n",
        "\n",
        "    x = layers.GlobalAveragePooling2D(name=\"glb_avg\")(x)\n",
        "    x = layers.Dense(1,activation = \"sigmoid\",name=\"d_output\")(x)\n",
        "    return keras.Model(input_layer,x)"
      ]
    },
    {
      "cell_type": "code",
      "execution_count": 16,
      "metadata": {
        "colab": {
          "base_uri": "https://localhost:8080/"
        },
        "id": "yy8ez1s1y0m7",
        "outputId": "f3c694d6-7ebb-445a-f098-f5f971e2529f"
      },
      "outputs": [
        {
          "output_type": "stream",
          "name": "stdout",
          "text": [
            "Model: \"model_3\"\n",
            "_________________________________________________________________\n",
            " Layer (type)                Output Shape              Param #   \n",
            "=================================================================\n",
            " input (InputLayer)          [(None, 360, 640, 3)]     0         \n",
            "                                                                 \n",
            " model_2 (Functional)        (None, 12, 20, 240)       373232    \n",
            "                                                                 \n",
            " glb_avg (GlobalAveragePooli  (None, 240)              0         \n",
            " ng2D)                                                           \n",
            "                                                                 \n",
            " d_output (Dense)            (None, 1)                 241       \n",
            "                                                                 \n",
            "=================================================================\n",
            "Total params: 373,473\n",
            "Trainable params: 372,609\n",
            "Non-trainable params: 864\n",
            "_________________________________________________________________\n"
          ]
        }
      ],
      "source": [
        "d = Discrimator()\n",
        "d.summary()"
      ]
    },
    {
      "cell_type": "markdown",
      "metadata": {
        "id": "dvQ9i8Euy0m7"
      },
      "source": [
        "### 1.4 Prepare all Elements"
      ]
    },
    {
      "cell_type": "code",
      "execution_count": 17,
      "metadata": {
        "id": "4lzwPaYOy0m8"
      },
      "outputs": [],
      "source": [
        "K.clear_session()\n",
        "\n",
        "g_e = Generator_Encoder()\n",
        "##\n",
        "g = Generator()\n",
        "\n",
        "##\n",
        "encoder = Encoder()\n",
        "\n",
        "##\n",
        "\n",
        "feature_extractor = Feature_Extractor()\n",
        "\n",
        "##\n",
        "\n",
        "d = Discrimator()"
      ]
    },
    {
      "cell_type": "markdown",
      "metadata": {
        "id": "tS2l2k_8y0m8"
      },
      "source": [
        "# 2 GAN Trainer"
      ]
    },
    {
      "cell_type": "markdown",
      "metadata": {
        "id": "PVABem_Ry0m8"
      },
      "source": [
        "## 2.1 Three Losses"
      ]
    },
    {
      "cell_type": "code",
      "execution_count": 18,
      "metadata": {
        "id": "Ok5tdVHNy0m8"
      },
      "outputs": [],
      "source": [
        "class AdvLoss(keras.layers.Layer):\n",
        "    def __init__(self,**kwargs):\n",
        "        super(AdvLoss,self).__init__(**kwargs)\n",
        "    def call(self,x,mask=None):\n",
        "        ori_feature = feature_extractor(x[0])\n",
        "        gan_feature = feature_extractor(x[1])\n",
        "\n",
        "        return K.mean(K.square(ori_feature-K.mean(gan_feature,axis=0) ) )\n",
        "\n",
        "    def get_output_shape_for(self,input_shape):\n",
        "        return (input_shape[0][0],3)\n",
        "\n",
        "\n",
        "class CntLoss(keras.layers.Layer):\n",
        "    def __init__(self,**kwargs) :\n",
        "        super(CntLoss,self).__init__(**kwargs)\n",
        "        \n",
        "    def call(self,x,mask=None):\n",
        "        ori = x[0]\n",
        "        gan = x[1]\n",
        "\n",
        "        return K.mean(K.abs(ori-gan))\n",
        "\n",
        "    def get_output_shape_for(self,input_shape):\n",
        "        return (input_shape[0][0],3)\n",
        "\n",
        "class EncLoss(keras.layers.Layer):\n",
        "    def __init__(self,**kwargs):\n",
        "        super(EncLoss,self).__init__(**kwargs)\n",
        "    \n",
        "    def call(self,x,mask=None):\n",
        "        ori = x[0]\n",
        "        gan = x[1]\n",
        "        \n",
        "        return K.mean(K.square( g_e(ori)-encoder(gan) ))\n",
        "    \n",
        "    def get_output_shape_for(self,input_shape):\n",
        "        return (input_shape[0][0],3)\n",
        "\n",
        "    "
      ]
    },
    {
      "cell_type": "markdown",
      "metadata": {
        "id": "9mVpk_e9y0m9"
      },
      "source": [
        "## 2.2 Compile GAN Trainer"
      ]
    },
    {
      "cell_type": "code",
      "execution_count": 19,
      "metadata": {
        "id": "t2Jrb7g_y0m9"
      },
      "outputs": [],
      "source": [
        "input_layer = layers.Input(name = \"input\",shape=(HEIGHT,WIDTH,CHANNEL))\n",
        "gan = g(input_layer)\n",
        "\n",
        "adv_loss = AdvLoss(name = \"adv_loss\")([input_layer,gan])\n",
        "cnt_loss = CntLoss(name=\"cnt_loss\")([input_layer,gan])\n",
        "enc_loss = EncLoss(name=\"enc_loss\")([input_layer,gan])\n",
        "\n",
        "gan_trainer = keras.models.Model(input_layer,[adv_loss,cnt_loss,enc_loss])\n",
        "\n",
        "def loss(yt,yp):\n",
        "    return yp\n",
        "\n",
        "losses = {\n",
        "    \"adv_loss\":loss,\n",
        "    \"cnt_loss\":loss,\n",
        "    \"enc_loss\":loss\n",
        "}\n",
        "\n",
        "lossWeights = {\"cnt_loss\":20.0,\"adv_loss\":1.0,\"enc_loss\":1.0}\n",
        "\n",
        "##Compile\n",
        "gan_trainer.compile(optimizer=\"adam\",loss= losses,loss_weights=lossWeights)"
      ]
    },
    {
      "cell_type": "code",
      "execution_count": 20,
      "metadata": {
        "colab": {
          "base_uri": "https://localhost:8080/"
        },
        "id": "Oi6jMm82y0m9",
        "outputId": "0dc8ba40-996e-4f09-c122-eb7b38b1df94"
      },
      "outputs": [
        {
          "output_type": "stream",
          "name": "stdout",
          "text": [
            "Model: \"model_7\"\n",
            "__________________________________________________________________________________________________\n",
            " Layer (type)                   Output Shape         Param #     Connected to                     \n",
            "==================================================================================================\n",
            " input (InputLayer)             [(None, 360, 640, 3  0           []                               \n",
            "                                )]                                                                \n",
            "                                                                                                  \n",
            " model_2 (Functional)           (None, 360, 640, 3)  15342851    ['input[0][0]']                  \n",
            "                                                                                                  \n",
            " adv_loss (AdvLoss)             ()                   0           ['input[0][0]',                  \n",
            "                                                                  'model_2[0][0]']                \n",
            "                                                                                                  \n",
            " cnt_loss (CntLoss)             ()                   0           ['input[0][0]',                  \n",
            "                                                                  'model_2[0][0]']                \n",
            "                                                                                                  \n",
            " enc_loss (EncLoss)             ()                   0           ['input[0][0]',                  \n",
            "                                                                  'model_2[0][0]']                \n",
            "                                                                                                  \n",
            "==================================================================================================\n",
            "Total params: 15,342,851\n",
            "Trainable params: 15,341,987\n",
            "Non-trainable params: 864\n",
            "__________________________________________________________________________________________________\n"
          ]
        }
      ],
      "source": [
        "gan_trainer.summary()"
      ]
    },
    {
      "cell_type": "markdown",
      "metadata": {
        "id": "ltWgm2O-y0m-"
      },
      "source": [
        "# 3 Discriminator"
      ]
    },
    {
      "cell_type": "code",
      "execution_count": 21,
      "metadata": {
        "colab": {
          "base_uri": "https://localhost:8080/"
        },
        "id": "zThu_XJmy0m-",
        "outputId": "e2d91354-6749-48da-fd3d-fc219a15ed2d"
      },
      "outputs": [
        {
          "output_type": "stream",
          "name": "stdout",
          "text": [
            "Model: \"model_6\"\n",
            "_________________________________________________________________\n",
            " Layer (type)                Output Shape              Param #   \n",
            "=================================================================\n",
            " input (InputLayer)          [(None, 360, 640, 3)]     0         \n",
            "                                                                 \n",
            " model_5 (Functional)        (None, 12, 20, 240)       373232    \n",
            "                                                                 \n",
            " glb_avg (GlobalAveragePooli  (None, 240)              0         \n",
            " ng2D)                                                           \n",
            "                                                                 \n",
            " d_output (Dense)            (None, 1)                 241       \n",
            "                                                                 \n",
            "=================================================================\n",
            "Total params: 373,473\n",
            "Trainable params: 372,609\n",
            "Non-trainable params: 864\n",
            "_________________________________________________________________\n"
          ]
        }
      ],
      "source": [
        "d.summary()"
      ]
    },
    {
      "cell_type": "code",
      "execution_count": 22,
      "metadata": {
        "id": "N2x0lXdcy0m-"
      },
      "outputs": [],
      "source": [
        "d.compile(optimizer=\"adam\",loss = \"binary_crossentropy\")"
      ]
    },
    {
      "cell_type": "markdown",
      "metadata": {
        "id": "0CYssYAqy0m-"
      },
      "source": [
        "# 4 Load DATA"
      ]
    },
    {
      "cell_type": "code",
      "execution_count": 23,
      "metadata": {
        "id": "Cz1rqdEGy0m_"
      },
      "outputs": [],
      "source": [
        "##Generate Path\n",
        "path = \"/content/drive/MyDrive/Monument/Train/real\"\n",
        "file_list = os.listdir(path)\n",
        "path_list = [os.path.join(path,name) for name in file_list]\n",
        "\n",
        "\n",
        "## Shuffle the dataset \n",
        "import random\n",
        "random.shuffle(path_list)\n",
        "\n",
        "## generate data set \n",
        "# from keras import utils\n",
        "# from utils import load_img\n",
        "# from utils import img_to_array\n",
        "\n",
        "\n",
        "Dataset = [keras.utils.img_to_array(keras.utils.load_img(image))/255 for image in path_list]"
      ]
    },
    {
      "cell_type": "code",
      "execution_count": 24,
      "metadata": {
        "colab": {
          "base_uri": "https://localhost:8080/"
        },
        "id": "-Qff8IB-y0m_",
        "outputId": "dbe2252f-6c2d-4957-d301-3dce92d61e67"
      },
      "outputs": [
        {
          "output_type": "stream",
          "name": "stdout",
          "text": [
            "Shape of Dataset (107, 360, 640, 3)\n",
            "Length of dataset 107\n",
            "To prove it has been normalized 1.0\n"
          ]
        }
      ],
      "source": [
        "Dataset = np.array(Dataset)\n",
        "print(f\"Shape of Dataset {Dataset.shape}\")\n",
        "print(f\"Length of dataset {len(Dataset)}\")\n",
        "print(f\"To prove it has been normalized {Dataset.max()}\")"
      ]
    },
    {
      "cell_type": "markdown",
      "metadata": {
        "id": "evYT9SDzy0m_"
      },
      "source": [
        "# 5 Training"
      ]
    },
    {
      "cell_type": "code",
      "execution_count": 25,
      "metadata": {
        "id": "T3ILXL1Py0m_"
      },
      "outputs": [],
      "source": [
        "niter = 1000\n",
        "bz = 16"
      ]
    },
    {
      "cell_type": "code",
      "execution_count": 26,
      "metadata": {
        "id": "wus3XO3Cy0nA"
      },
      "outputs": [],
      "source": [
        "def get_data_generator(data,batch_size=8):\n",
        "    data_len = len(data)\n",
        "    cnt = 0\n",
        "    while True:\n",
        "        idxes = np.arange(data_len)\n",
        "        np.random.shuffle(idxes)\n",
        "        cnt +=1\n",
        "        for i in range(int(np.ceil(data_len/batch_size))):\n",
        "            train_x = np.take(data,idxes[i*batch_size:(i+1)*batch_size],axis=0)\n",
        "            y = np.ones(len(train_x))\n",
        "            yield train_x, [y,y,y]"
      ]
    },
    {
      "cell_type": "code",
      "execution_count": 27,
      "metadata": {
        "id": "H0qk_lUGy0nA"
      },
      "outputs": [],
      "source": [
        "train_data_generator = get_data_generator(Dataset,bz)"
      ]
    },
    {
      "cell_type": "code",
      "execution_count": 28,
      "metadata": {
        "colab": {
          "base_uri": "https://localhost:8080/"
        },
        "id": "7_a7pXCey0nA",
        "outputId": "692897c9-bc11-4179-975e-b8c09c8ad9ad"
      },
      "outputs": [
        {
          "output_type": "stream",
          "name": "stdout",
          "text": [
            "Iter:1,g_loss:[20.249534606933594, 0.5287189483642578, 0.551457941532135, 0.075040802359581],d_loss=3.400442600250244\n",
            "Iter:51,g_loss:[3.5484046936035156, 0.37942034006118774, 0.08351332694292068, 0.06574051082134247],d_loss=0.9737440347671509\n",
            "Iter:101,g_loss:[3.0384697914123535, 0.2777973711490631, 0.08876863867044449, 0.07638201862573624],d_loss=0.601413369178772\n",
            "Iter:151,g_loss:[2.4262566566467285, 0.2671995460987091, 0.07116382569074631, 0.0660640075802803],d_loss=0.33555927872657776\n",
            "Iter:201,g_loss:[2.2183573246002197, 0.24697397649288177, 0.06674222648143768, 0.04806848242878914],d_loss=0.20306435227394104\n",
            "Iter:251,g_loss:[1.9927000999450684, 0.2179034799337387, 0.06051041930913925, 0.045451004058122635],d_loss=0.13234324753284454\n",
            "Iter:301,g_loss:[1.8690310716629028, 0.21209849417209625, 0.056088294833898544, 0.03630613535642624],d_loss=0.5591588616371155\n",
            "Iter:351,g_loss:[1.8465687036514282, 0.22686278820037842, 0.05463692173361778, 0.07586827874183655],d_loss=0.3758937120437622\n",
            "Iter:401,g_loss:[1.9403042793273926, 0.20965690910816193, 0.06306575983762741, 0.05183439329266548],d_loss=0.26886969804763794\n",
            "Iter:451,g_loss:[1.7857939004898071, 0.19263942539691925, 0.05629456788301468, 0.07303643971681595],d_loss=0.20241211354732513\n",
            "Iter:501,g_loss:[1.871052622795105, 0.21719326078891754, 0.061396416276693344, 0.046970948576927185],d_loss=0.21294310688972473\n",
            "Iter:551,g_loss:[1.717423439025879, 0.17136409878730774, 0.055917900055646896, 0.06471934169530869],d_loss=0.14792713522911072\n",
            "Iter:601,g_loss:[1.6326160430908203, 0.17821341753005981, 0.05093342065811157, 0.07200070470571518],d_loss=0.1432986557483673\n",
            "Iter:651,g_loss:[1.59013032913208, 0.17857269942760468, 0.04871401935815811, 0.0767403244972229],d_loss=0.15465033054351807\n",
            "Iter:701,g_loss:[1.848244071006775, 0.21227286756038666, 0.06076529994606972, 0.07191783934831619],d_loss=0.1069687008857727\n",
            "Iter:751,g_loss:[1.548234462738037, 0.16976244747638702, 0.04957571625709534, 0.04824873432517052],d_loss=0.07836689054965973\n",
            "Iter:801,g_loss:[1.5749428272247314, 0.18620969355106354, 0.050413649529218674, 0.05368984863162041],d_loss=0.06771238148212433\n",
            "Iter:851,g_loss:[1.5003836154937744, 0.17357754707336426, 0.04723597317934036, 0.05201331153512001],d_loss=0.07124084234237671\n",
            "Iter:901,g_loss:[1.716910719871521, 0.20330901443958282, 0.05550001189112663, 0.06572128087282181],d_loss=0.05202741175889969\n",
            "Iter:951,g_loss:[1.4608319997787476, 0.16736263036727905, 0.04542874917387962, 0.06544061750173569],d_loss=0.18032582104206085\n"
          ]
        }
      ],
      "source": [
        "d_loss_History = np.zeros(shape=(niter,1))\n",
        "g_loss_History = np.zeros(shape=(niter,4))\n",
        "for i in range(niter):\n",
        "    x,y = train_data_generator.__next__()\n",
        "\n",
        "    d.trainable = True\n",
        "    fake_x = g.predict(x,verbose = 0)\n",
        "\n",
        "    d_x = np.concatenate([x,fake_x],axis=0)\n",
        "    d_y = np.concatenate([np.zeros(len(x)),np.ones(len(fake_x))],axis=0)\n",
        "\n",
        "    d_loss = d.train_on_batch(d_x,d_y)\n",
        "\n",
        "    d.trainable = False\n",
        "\n",
        "    g_loss = gan_trainer.train_on_batch(x,y)\n",
        "    \n",
        "    d_loss_History[i] = d_loss\n",
        "    g_loss_History[i,:] = g_loss\n",
        "\n",
        "    if i %50 ==0:\n",
        "        print(f\"Iter:{i+1},g_loss:{g_loss},d_loss={d_loss}\")"
      ]
    },
    {
      "cell_type": "markdown",
      "source": [
        "# 6 Abnormal Examine"
      ],
      "metadata": {
        "id": "3hY7LKtVmksr"
      }
    },
    {
      "cell_type": "code",
      "execution_count": 29,
      "metadata": {
        "id": "SFsOBC2ry0nB",
        "colab": {
          "base_uri": "https://localhost:8080/"
        },
        "outputId": "01542da2-cc5b-4ae6-f050-87a2f86248ab"
      },
      "outputs": [
        {
          "output_type": "stream",
          "name": "stdout",
          "text": [
            "Shape of Abnormal Dataset (45, 360, 640, 3)\n"
          ]
        }
      ],
      "source": [
        "path_abnormal =\"/content/drive/MyDrive/Monument/Train/abnormal\"\n",
        "test_list = os.listdir(path_abnormal)\n",
        "list_abnormal = [os.path.join(path_abnormal,test) for test in test_list ]\n",
        "test_img = [keras.utils.img_to_array(keras.utils.load_img(abnormal)) for abnormal in list_abnormal]\n",
        "test_img = np.array(test_img)\n",
        "print(f\"Shape of Abnormal Dataset {test_img.shape}\")"
      ]
    },
    {
      "cell_type": "markdown",
      "source": [
        "## 6.1 Predict and compute Loss"
      ],
      "metadata": {
        "id": "ufHaQv-Qnt4n"
      }
    },
    {
      "cell_type": "code",
      "source": [
        "## Abnormal\n",
        "encoded = g_e.predict(test_img)\n",
        "gan_x = g.predict(test_img)\n",
        "# encoded_gan = g_e.predict(gan_x)\n",
        "encoded_gan = encoder.predict(gan_x)\n",
        "disr = d.predict(gan_x)\n",
        "score = np.sum(np.absolute(encoded-encoded_gan),axis=-1)\n",
        "score = (score - np.min(score))/(np.max(score)-np.min(score))\n",
        "print(score.shape)\n",
        "\n",
        "## Normal\n",
        "gan_x_true = g.predict(Dataset)\n",
        "encoded_true = g_e.predict(Dataset)\n",
        "# encoded_gan_true = g_e.predict(gan_x_true)\n",
        "encoded_gan_true = encoder.predict(gan_x_true)\n",
        "score_true = np.sum(np.absolute(encoded_true-encoded_gan_true),axis=-1)\n",
        "score_true = (score_true - np.min(score_true))/(np.max(score_true)-np.min(score_true))"
      ],
      "metadata": {
        "colab": {
          "base_uri": "https://localhost:8080/"
        },
        "id": "SiiKr-lynq-V",
        "outputId": "65140cdb-bfaf-4cf8-c12c-37d78906a61a"
      },
      "execution_count": 53,
      "outputs": [
        {
          "output_type": "stream",
          "name": "stdout",
          "text": [
            "(45,)\n"
          ]
        }
      ]
    },
    {
      "cell_type": "markdown",
      "source": [
        "## 6.2 Plot Results"
      ],
      "metadata": {
        "id": "_gU-j-yXoj1p"
      }
    },
    {
      "cell_type": "code",
      "source": [
        "i = 5\n",
        "image = np.reshape(gan_x[i],[HEIGHT,WIDTH,CHANNEL])\n",
        "# image *= 255.0\n",
        "image = keras.utils.array_to_img(image)\n",
        "image.save(\"/content/Image/gan.jpg\")"
      ],
      "metadata": {
        "id": "0IMFeXyRoeZG"
      },
      "execution_count": 31,
      "outputs": []
    },
    {
      "cell_type": "code",
      "source": [
        "## Loss \n",
        "plt.figure()\n",
        "plt.figure(figsize = (8,8))\n",
        "plt.plot(range(niter),g_loss_History[:,1],lw=2,label=\"Adv Loss\")\n",
        "\n",
        "plt.legend()\n",
        "plt.xlabel(\"Iteration\")\n",
        "plt.ylabel(\"Loss\")\n",
        "plt.title(\"Adv Loss\")\n",
        "plt.savefig(\"/content/Image/Adv Loss for {} epoch\".format(niter))"
      ],
      "metadata": {
        "colab": {
          "base_uri": "https://localhost:8080/",
          "height": 530
        },
        "id": "mregu6FDpS5d",
        "outputId": "c12b1fbf-8ef7-49ed-c1ee-fac14927ab3a"
      },
      "execution_count": 36,
      "outputs": [
        {
          "output_type": "display_data",
          "data": {
            "text/plain": [
              "<Figure size 432x288 with 0 Axes>"
            ]
          },
          "metadata": {}
        },
        {
          "output_type": "display_data",
          "data": {
            "text/plain": [
              "<Figure size 576x576 with 1 Axes>"
            ],
            "image/png": "[encoded data removed]"
          },
          "metadata": {
            "needs_background": "light"
          }
        }
      ]
    },
    {
      "cell_type": "code",
      "source": [
        "plt.figure()\n",
        "plt.figure(figsize = (8,8))\n",
        "\n",
        "plt.plot(range(niter),g_loss_History[:,2],lw=2,label=\"Cnt Loss\")\n",
        "\n",
        "plt.legend()\n",
        "plt.xlabel(\"Iteration\")\n",
        "plt.ylabel(\"Loss\")\n",
        "plt.title(\"Cnt Loss\")\n",
        "plt.savefig(\"/content/Image/Cnt Loss for {} epoch\".format(niter))"
      ],
      "metadata": {
        "colab": {
          "base_uri": "https://localhost:8080/",
          "height": 530
        },
        "id": "GebjaP98xC0j",
        "outputId": "ba5d124a-dab2-4cfb-93d3-ab9b33929455"
      },
      "execution_count": 37,
      "outputs": [
        {
          "output_type": "display_data",
          "data": {
            "text/plain": [
              "<Figure size 432x288 with 0 Axes>"
            ]
          },
          "metadata": {}
        },
        {
          "output_type": "display_data",
          "data": {
            "text/plain": [
              "<Figure size 576x576 with 1 Axes>"
            ],
            "image/png": "[encoded data removed]"
          },
          "metadata": {
            "needs_background": "light"
          }
        }
      ]
    },
    {
      "cell_type": "code",
      "source": [
        "plt.figure()\n",
        "plt.figure(figsize = (8,8))\n",
        "\n",
        "plt.plot(range(niter),g_loss_History[:,3],lw=2,label=\"Env Loss\")\n",
        "\n",
        "plt.legend()\n",
        "plt.xlabel(\"Iteration\")\n",
        "plt.ylabel(\"Loss\")\n",
        "plt.title(\"Env Loss\")\n",
        "plt.savefig(\"/content/Image/Env Loss for {} epoch\".format(niter))"
      ],
      "metadata": {
        "colab": {
          "base_uri": "https://localhost:8080/",
          "height": 530
        },
        "id": "4hgq4a5YxPKz",
        "outputId": "14548f35-1a4d-4dfc-f7ac-5c462f20cc2c"
      },
      "execution_count": 38,
      "outputs": [
        {
          "output_type": "display_data",
          "data": {
            "text/plain": [
              "<Figure size 432x288 with 0 Axes>"
            ]
          },
          "metadata": {}
        },
        {
          "output_type": "display_data",
          "data": {
            "text/plain": [
              "<Figure size 576x576 with 1 Axes>"
            ],
            "image/png": "[encoded data removed]"
          },
          "metadata": {
            "needs_background": "light"
          }
        }
      ]
    },
    {
      "cell_type": "code",
      "source": [
        "plt.figure()\n",
        "plt.figure(figsize = (8,8))\n",
        "\n",
        "plt.plot(range(niter),d_loss_History,lw=2,label=\"Env Loss\")\n",
        "\n",
        "plt.legend()\n",
        "plt.xlabel(\"Iteration\")\n",
        "plt.ylabel(\"Loss\")\n",
        "plt.title(\"Binary CrossEntropy Loss\")\n",
        "plt.savefig(\"/content/Image/Binary CrossEntropy Loss for {} epoch\".format(niter))"
      ],
      "metadata": {
        "colab": {
          "base_uri": "https://localhost:8080/",
          "height": 530
        },
        "id": "Ce-Xvi19xY3e",
        "outputId": "d7078819-1f1b-4b7a-fb09-e2709f555fb9"
      },
      "execution_count": 40,
      "outputs": [
        {
          "output_type": "display_data",
          "data": {
            "text/plain": [
              "<Figure size 432x288 with 0 Axes>"
            ]
          },
          "metadata": {}
        },
        {
          "output_type": "display_data",
          "data": {
            "text/plain": [
              "<Figure size 576x576 with 1 Axes>"
            ],
            "image/png": "[encoded data removed]"
          },
          "metadata": {
            "needs_background": "light"
          }
        }
      ]
    },
    {
      "cell_type": "code",
      "source": [
        "\n",
        "## Discriminator\n",
        "gan_true = g.predict(Dataset)\n",
        "disr_true = d.predict(gan_true)\n",
        "d_org_true = d.predict(Dataset)\n",
        "# l2_true = np.abs((disr_true-d_org_true))\n",
        "# l2_true = (l2_true - np.min(l2_true))/(np.max(l2_true)-np.min(l2_true))\n",
        "d_true = d.predict(np.concatenate([Dataset,gan_true],axis=-1))\n",
        "\n",
        "disr = d.predict(gan_x)\n",
        "d_org = d.predict(test_img)\n",
        "# l2 = np.abs((disr-d_org))\n",
        "# l2 = (l2 - np.min(l2))/(np.max(l2)-np.min(l2))\n",
        "\n",
        "d_true = d.predict(np.concatenate([test_img,gan_x],axis=-1))"
      ],
      "metadata": {
        "id": "Byx4OnaXojFE"
      },
      "execution_count": 73,
      "outputs": []
    },
    {
      "cell_type": "code",
      "source": [
        "d_true = d.predict(np.concatenate([Dataset,gan_true],axis=0))\n",
        "d_abnromal = d.predict(np.concatenate([test_img,gan_x],axis=0))"
      ],
      "metadata": {
        "id": "gJ5cJnnFtQ2b"
      },
      "execution_count": 77,
      "outputs": []
    },
    {
      "cell_type": "code",
      "source": [
        "d(Dataset[0:1,:,:,:])"
      ],
      "metadata": {
        "colab": {
          "base_uri": "https://localhost:8080/"
        },
        "id": "JlyaUet3vX5g",
        "outputId": "2fbaa498-aeb3-4f87-9b71-4b56a148cc39"
      },
      "execution_count": 87,
      "outputs": [
        {
          "output_type": "execute_result",
          "data": {
            "text/plain": [
              "<tf.Tensor: shape=(1, 1), dtype=float32, numpy=array([[1.]], dtype=float32)>"
            ]
          },
          "metadata": {},
          "execution_count": 87
        }
      ]
    },
    {
      "cell_type": "code",
      "source": [
        "plt.figure(figsize=(8,8))\n",
        "plt.plot(range(len(test_img)),disr,\"ro\",lw = 1.5,label=\"Discrimator Score on Abnormal\")\n",
        "# plt.plot(range(len(Dataset)),disr_true,\"bs\",lw=1.5,label=\"Discrimator Score on Normal\")\n",
        "plt.legend()\n",
        "plt.grid()\n",
        "plt.xlabel(\"No of Sample\")\n",
        "plt.ylabel(\"Propabilty\")\n",
        "plt.savefig(\"/content/Image/Discrimator Result for {}epoch\".format(niter))"
      ],
      "metadata": {
        "colab": {
          "base_uri": "https://localhost:8080/",
          "height": 497
        },
        "id": "0nJAX2dlpEdV",
        "outputId": "c9df127f-beab-4775-f2b5-582728262f11"
      },
      "execution_count": 81,
      "outputs": [
        {
          "output_type": "display_data",
          "data": {
            "text/plain": [
              "<Figure size 576x576 with 1 Axes>"
            ],
            "image/png": "[encoded data removed]"
          },
          "metadata": {
            "needs_background": "light"
          }
        }
      ]
    },
    {
      "cell_type": "code",
      "source": [
        "plt.figure(figsize=(8,8))\n",
        "plt.plot(range(len(test_img)),score,\"ro\",lw = 1.5,label=\"Adv Score on Abnormal\")\n",
        "plt.plot(range(len(Dataset)),score_true,\"bs\",lw=1.5,label=\"Adv Score on Normal\")\n",
        "plt.legend()\n",
        "plt.grid()\n",
        "plt.xlabel(\"No of Sample\")\n",
        "plt.ylabel(\"Score\")\n",
        "plt.savefig(\"/content/Image/Adv Result for {}epoch\".format(niter))"
      ],
      "metadata": {
        "colab": {
          "base_uri": "https://localhost:8080/",
          "height": 497
        },
        "id": "qQBk-WUqig9n",
        "outputId": "4c08feaa-12fc-422c-b7e4-c6678df04b85"
      },
      "execution_count": 54,
      "outputs": [
        {
          "output_type": "display_data",
          "data": {
            "text/plain": [
              "<Figure size 576x576 with 1 Axes>"
            ],
            "image/png": "[encoded data removed]"
          },
          "metadata": {
            "needs_background": "light"
          }
        }
      ]
    },
    {
      "cell_type": "code",
      "source": [
        "g.save(r\"/content/Model/GAN.h5\")\n",
        "g.save_weights(r\"/content/Model/GAN_weights.h5\")\n",
        "\n",
        "\n",
        "g_e.save(r\"/content/Model/GAN_Encoder.h5\")\n",
        "g_e.save_weights(r\"/content/Model/GAN_Encoder_weights.h5\")\n",
        "\n",
        "d.save(r\"/content/Model/Discriminator.h5\")\n",
        "d.save_weights(r\"/content/Model/Discriminator_weights.h5\")"
      ],
      "metadata": {
        "colab": {
          "base_uri": "https://localhost:8080/"
        },
        "id": "gbxNP7yqpK8F",
        "outputId": "f7167f48-35d7-402c-8d59-da78b8bd450b"
      },
      "execution_count": 48,
      "outputs": [
        {
          "output_type": "stream",
          "name": "stderr",
          "text": [
            "WARNING:tensorflow:Compiled the loaded model, but the compiled metrics have yet to be built. `model.compile_metrics` will be empty until you train or evaluate the model.\n",
            "WARNING:tensorflow:Compiled the loaded model, but the compiled metrics have yet to be built. `model.compile_metrics` will be empty until you train or evaluate the model.\n"
          ]
        }
      ]
    },
    {
      "cell_type": "code",
      "source": [
        "g.save(r\"/content/Model1/GAN\")\n",
        "g.save_weights(r\"/content/Model1/GAN_weights\")\n",
        "\n",
        "\n",
        "g_e.save(r\"/content/Model1/GAN_Encoder\")\n",
        "g_e.save_weights(r\"/content/Model1/GAN_Encoder_weights\")\n",
        "\n",
        "d.save(r\"/content/Model1/Discriminator\")\n",
        "d.save_weights(r\"/content/Model1/Discriminator_weights\")"
      ],
      "metadata": {
        "colab": {
          "base_uri": "https://localhost:8080/"
        },
        "id": "od-B6816kFi5",
        "outputId": "e9ab4060-1a8a-48f5-c520-924962b62b25"
      },
      "execution_count": 49,
      "outputs": [
        {
          "output_type": "stream",
          "name": "stderr",
          "text": [
            "WARNING:tensorflow:Compiled the loaded model, but the compiled metrics have yet to be built. `model.compile_metrics` will be empty until you train or evaluate the model.\n",
            "WARNING:tensorflow:Compiled the loaded model, but the compiled metrics have yet to be built. `model.compile_metrics` will be empty until you train or evaluate the model.\n"
          ]
        }
      ]
    },
    {
      "cell_type": "code",
      "source": [
        "feature_extractor"
      ],
      "metadata": {
        "colab": {
          "base_uri": "https://localhost:8080/"
        },
        "id": "ZwLwiuaXkLKl",
        "outputId": "e5984e42-52e0-45d8-e7df-1d95fb86fc79"
      },
      "execution_count": 88,
      "outputs": [
        {
          "output_type": "execute_result",
          "data": {
            "text/plain": [
              "<keras.engine.functional.Functional at 0x7f641dc97e50>"
            ]
          },
          "metadata": {},
          "execution_count": 88
        }
      ]
    },
    {
      "cell_type": "code",
      "source": [],
      "metadata": {
        "id": "bEbOtg0Qy8Oq"
      },
      "execution_count": null,
      "outputs": []
    }
  ],
  "metadata": {
    "kernelspec": {
      "display_name": "Python 3.9.11 64-bit",
      "language": "python",
      "name": "python3"
    },
    "language_info": {
      "codemirror_mode": {
        "name": "ipython",
        "version": 3
      },
      "file_extension": ".py",
      "mimetype": "text/x-python",
      "name": "python",
      "nbconvert_exporter": "python",
      "pygments_lexer": "ipython3",
      "version": "3.9.11"
    },
    "orig_nbformat": 4,
    "vscode": {
      "interpreter": {
        "hash": "e450050b432e843bda3c41bf3272c133bfc370a7003f3e377e27f87a49ce1127"
      }
    },
    "colab": {
      "provenance": [],
      "collapsed_sections": [
        "4_boCR79y0my",
        "ltWgm2O-y0m-",
        "0CYssYAqy0m-"
      ]
    }
  },
  "nbformat": 4,
  "nbformat_minor": 0
}