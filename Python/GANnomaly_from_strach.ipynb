{
 "cells": [
  {
   "cell_type": "code",
   "execution_count": 108,
   "metadata": {},
   "outputs": [],
   "source": [
    "import tensorflow as tf \n",
    "from tensorflow import keras\n",
    "import keras.backend as K \n",
    "from keras import layers\n",
    "import matplotlib.pyplot as plt \n",
    "import os \n",
    "import numpy as np"
   ]
  },
  {
   "cell_type": "markdown",
   "metadata": {},
   "source": [
    "# GANomaly"
   ]
  },
  {
   "cell_type": "markdown",
   "metadata": {},
   "source": [
    "# 1 Model "
   ]
  },
  {
   "cell_type": "markdown",
   "metadata": {},
   "source": [
    "Model has two parts :\n",
    "1. Generator = Generator Encoder ==> Generator Decoder ==> Encoder \n",
    "2. Discrimator = Feature Extractor ==> Sigmoid  "
   ]
  },
  {
   "cell_type": "markdown",
   "metadata": {},
   "source": [
    "## 1.1 Define Global Parameters "
   ]
  },
  {
   "cell_type": "code",
   "execution_count": 109,
   "metadata": {},
   "outputs": [
    {
     "name": "stdout",
     "output_type": "stream",
     "text": [
      "The shape of image is (360, 640, 3)\n"
     ]
    }
   ],
   "source": [
    "path = r\"E:\\Monument\\Train\\real\"\n",
    "img_name = \"15.jpg\"\n",
    "path = os.path.join(path,img_name)\n",
    "\n",
    "img = keras.utils.load_img(path)\n",
    "img_array = keras.utils.img_to_array(img)\n",
    "\n",
    "print(f\"The shape of image is {img_array.shape}\")"
   ]
  },
  {
   "cell_type": "code",
   "execution_count": 110,
   "metadata": {},
   "outputs": [
    {
     "name": "stdout",
     "output_type": "stream",
     "text": [
      "The Height is 360\n",
      "The Width is 640\n",
      "The Channel is 3\n"
     ]
    }
   ],
   "source": [
    "# Sort out the basic parameters\n",
    "HEIGHT = img_array.shape[0]\n",
    "WIDTH = img_array.shape[1]\n",
    "CHANNEL = img_array.shape[2]\n",
    "print(f\"The Height is {HEIGHT}\")\n",
    "print(f\"The Width is {WIDTH}\")\n",
    "print(f\"The Channel is {CHANNEL}\")"
   ]
  },
  {
   "cell_type": "code",
   "execution_count": 111,
   "metadata": {},
   "outputs": [],
   "source": [
    "K.clear_session()"
   ]
  },
  {
   "cell_type": "markdown",
   "metadata": {},
   "source": [
    "## 1.2 Generator"
   ]
  },
  {
   "cell_type": "markdown",
   "metadata": {},
   "source": [
    "### 1.2.1 Generator Encoder"
   ]
  },
  {
   "cell_type": "code",
   "execution_count": 112,
   "metadata": {},
   "outputs": [],
   "source": [
    "def Generator_Encoder():\n",
    "    input_layer = layers.Input(name=\"input\",shape=(HEIGHT,WIDTH,CHANNEL))\n",
    "    x = layers.Conv2D(32,(5,5),strides=(1,1),padding =\"same\",name= \"conv_1\",kernel_regularizer=\"l2\")(input_layer)\n",
    "    x = layers.LeakyReLU(name=\"leaky_1\")(x)\n",
    "    x = layers.MaxPooling2D()(x)\n",
    "\n",
    "\n",
    "    x = layers.Conv2D(64,(3,3),strides=(2,2),padding =\"same\",name= \"conv_2\",kernel_regularizer=\"l2\")(x)\n",
    "    x = layers.BatchNormalization(name=\"norm_1\")(x)\n",
    "    x = layers.LeakyReLU(name=\"leaky_2\")(x)\n",
    "\n",
    "    x = layers.MaxPooling2D()(x)\n",
    "\n",
    "\n",
    "    x = layers.Conv2D(128,(3,3),strides=(2,2),padding =\"same\",name= \"conv_3\",kernel_regularizer=\"l2\")(x)\n",
    "    x = layers.BatchNormalization(name=\"norm_2\")(x)\n",
    "    x = layers.LeakyReLU(name=\"leaky_3\")(x)\n",
    "    \n",
    "    # x = layers.MaxPooling2D()(x)\n",
    "    \n",
    "    x = layers.Conv2D(240,(3,3),strides=(2,2),padding =\"same\",name= \"conv_4\",kernel_regularizer=\"l2\")(x)\n",
    "    x = layers.BatchNormalization(name=\"norm_3\")(x)\n",
    "    x = layers.LeakyReLU(name=\"leaky_4\")(x)\n",
    "\n",
    "    # x = layers.Conv2D(512,(3,3),strides=(2,2),padding =\"same\",name= \"conv_5\",kernel_regularizer=\"l2\")(x)\n",
    "    # x = layers.BatchNormalization(name=\"norm_4\")(x)\n",
    "    # x = layers.LeakyReLU(name=\"leaky_5\")(x)\n",
    "\n",
    "    # x = layers.Conv2D(1024,(3,3),strides=(2,2),padding =\"same\",name= \"conv_6\",kernel_regularizer=\"l2\")(x)\n",
    "    # x = layers.BatchNormalization(name=\"norm_5\")(x)\n",
    "    # x = layers.LeakyReLU(name=\"leaky_6\")(x)\n",
    "\n",
    "    x = layers.GlobalAveragePooling2D(name = \"g_encoder_output\")(x)\n",
    "\n",
    "    return keras.Model(inputs =input_layer,outputs =x)"
   ]
  },
  {
   "cell_type": "code",
   "execution_count": 113,
   "metadata": {},
   "outputs": [
    {
     "name": "stdout",
     "output_type": "stream",
     "text": [
      "Model: \"model\"\n",
      "_________________________________________________________________\n",
      " Layer (type)                Output Shape              Param #   \n",
      "=================================================================\n",
      " input (InputLayer)          [(None, 360, 640, 3)]     0         \n",
      "                                                                 \n",
      " conv_1 (Conv2D)             (None, 360, 640, 32)      2432      \n",
      "                                                                 \n",
      " leaky_1 (LeakyReLU)         (None, 360, 640, 32)      0         \n",
      "                                                                 \n",
      " max_pooling2d (MaxPooling2D  (None, 180, 320, 32)     0         \n",
      " )                                                               \n",
      "                                                                 \n",
      " conv_2 (Conv2D)             (None, 90, 160, 64)       18496     \n",
      "                                                                 \n",
      " norm_1 (BatchNormalization)  (None, 90, 160, 64)      256       \n",
      "                                                                 \n",
      " leaky_2 (LeakyReLU)         (None, 90, 160, 64)       0         \n",
      "                                                                 \n",
      " max_pooling2d_1 (MaxPooling  (None, 45, 80, 64)       0         \n",
      " 2D)                                                             \n",
      "                                                                 \n",
      " conv_3 (Conv2D)             (None, 23, 40, 128)       73856     \n",
      "                                                                 \n",
      " norm_2 (BatchNormalization)  (None, 23, 40, 128)      512       \n",
      "                                                                 \n",
      " leaky_3 (LeakyReLU)         (None, 23, 40, 128)       0         \n",
      "                                                                 \n",
      " conv_4 (Conv2D)             (None, 12, 20, 240)       276720    \n",
      "                                                                 \n",
      " norm_3 (BatchNormalization)  (None, 12, 20, 240)      960       \n",
      "                                                                 \n",
      " leaky_4 (LeakyReLU)         (None, 12, 20, 240)       0         \n",
      "                                                                 \n",
      " g_encoder_output (GlobalAve  (None, 240)              0         \n",
      " ragePooling2D)                                                  \n",
      "                                                                 \n",
      "=================================================================\n",
      "Total params: 373,232\n",
      "Trainable params: 372,368\n",
      "Non-trainable params: 864\n",
      "_________________________________________________________________\n"
     ]
    }
   ],
   "source": [
    "g_e = Generator_Encoder()\n",
    "g_e.summary()"
   ]
  },
  {
   "cell_type": "markdown",
   "metadata": {},
   "source": [
    "### 1.2.2 Generator "
   ]
  },
  {
   "cell_type": "code",
   "execution_count": 114,
   "metadata": {},
   "outputs": [],
   "source": [
    "def Generator():\n",
    "    g_e  = Generator_Encoder()\n",
    "    input_layer = layers.Input(name=\"input\",shape=(HEIGHT,WIDTH,CHANNEL))\n",
    "\n",
    "    x = g_e(input_layer)\n",
    "    height = np.int64(HEIGHT//30)\n",
    "    width = np.int64(WIDTH//32)\n",
    "    x = layers.Dense(height*width*240,name=\"dense\")(x)\n",
    "    x = layers.Reshape((height,width,240),name=\"de_reshape\")(x)\n",
    "\n",
    "    x = layers.Conv2DTranspose(240,(4,4),strides =(2,2),padding = \"same\",name=\"deconv_1\",kernel_regularizer=\"l2\")(x)\n",
    "    x = layers.LeakyReLU(name=\"de_leaky_1\")(x)\n",
    "\n",
    "    # x = layers.Conv2DTranspose(256,(3,3),strides =(2,2),padding = \"same\",name=\"deconv_2\",kernel_regularizer=\"l2\")(x)\n",
    "    # x = layers.LeakyReLU(name=\"de_leaky_2\")(x)\n",
    "\n",
    "    x = layers.Conv2DTranspose(128,(2,2),strides =(2,2),padding = \"same\",name=\"deconv_3\",kernel_regularizer=\"l2\")(x)\n",
    "    x = layers.LeakyReLU(name=\"de_leaky_3\")(x)\n",
    "    \n",
    "\n",
    "    x = layers.Conv2DTranspose(64,(2,2),strides =(2,2),padding = \"same\",name=\"deconv_4\",kernel_regularizer=\"l2\")(x)\n",
    "    x = layers.LeakyReLU(name=\"de_leaky_4\")(x)\n",
    "\n",
    "    x = layers.Conv2DTranspose(32,(2,2),strides =(2,2),padding = \"same\",name=\"deconv_5\",kernel_regularizer=\"l2\")(x)\n",
    "    x = layers.LeakyReLU(name=\"de_leaky_5\")(x)\n",
    "    \n",
    "    x = layers.Conv2DTranspose(16,(2,2),strides =(2,2),padding = \"same\",name=\"deconv_6\",kernel_regularizer=\"l2\")(x)\n",
    "    x = layers.LeakyReLU(name=\"de_leaky_6\")(x)\n",
    "    \n",
    "\n",
    "    x = layers.Conv2DTranspose(CHANNEL,(1,1),strides= (1,1),padding =\"same\",name=\"decoder_deconv_output\",kernel_regularizer = \"l2\",activation=\"tanh\")(x)\n",
    "\n",
    "    x = layers.Resizing(HEIGHT,WIDTH)(x)\n",
    "    return keras.Model(inputs =input_layer,outputs=x)\n",
    "    \n",
    "    "
   ]
  },
  {
   "cell_type": "code",
   "execution_count": 115,
   "metadata": {},
   "outputs": [
    {
     "name": "stdout",
     "output_type": "stream",
     "text": [
      "Model: \"model_1\"\n",
      "_________________________________________________________________\n",
      " Layer (type)                Output Shape              Param #   \n",
      "=================================================================\n",
      " input (InputLayer)          [(None, 360, 640, 3)]     0         \n",
      "                                                                 \n",
      " model (Functional)          (None, 240)               373232    \n",
      "                                                                 \n",
      " dense (Dense)               (None, 57600)             13881600  \n",
      "                                                                 \n",
      " de_reshape (Reshape)        (None, 12, 20, 240)       0         \n",
      "                                                                 \n",
      " deconv_1 (Conv2DTranspose)  (None, 24, 40, 240)       921840    \n",
      "                                                                 \n",
      " de_leaky_1 (LeakyReLU)      (None, 24, 40, 240)       0         \n",
      "                                                                 \n",
      " deconv_3 (Conv2DTranspose)  (None, 48, 80, 128)       123008    \n",
      "                                                                 \n",
      " de_leaky_3 (LeakyReLU)      (None, 48, 80, 128)       0         \n",
      "                                                                 \n",
      " deconv_4 (Conv2DTranspose)  (None, 96, 160, 64)       32832     \n",
      "                                                                 \n",
      " de_leaky_4 (LeakyReLU)      (None, 96, 160, 64)       0         \n",
      "                                                                 \n",
      " deconv_5 (Conv2DTranspose)  (None, 192, 320, 32)      8224      \n",
      "                                                                 \n",
      " de_leaky_5 (LeakyReLU)      (None, 192, 320, 32)      0         \n",
      "                                                                 \n",
      " deconv_6 (Conv2DTranspose)  (None, 384, 640, 16)      2064      \n",
      "                                                                 \n",
      " de_leaky_6 (LeakyReLU)      (None, 384, 640, 16)      0         \n",
      "                                                                 \n",
      " decoder_deconv_output (Conv  (None, 384, 640, 3)      51        \n",
      " 2DTranspose)                                                    \n",
      "                                                                 \n",
      " resizing (Resizing)         (None, 360, 640, 3)       0         \n",
      "                                                                 \n",
      "=================================================================\n",
      "Total params: 15,342,851\n",
      "Trainable params: 15,341,987\n",
      "Non-trainable params: 864\n",
      "_________________________________________________________________\n"
     ]
    }
   ],
   "source": [
    "K.clear_session()\n",
    "g = Generator()\n",
    "g.summary()"
   ]
  },
  {
   "cell_type": "markdown",
   "metadata": {},
   "source": [
    "### 1.2.3 Encoder "
   ]
  },
  {
   "cell_type": "code",
   "execution_count": 116,
   "metadata": {},
   "outputs": [],
   "source": [
    "def Encoder():\n",
    "    input_layer = layers.Input(name=\"encoder_input\",shape=(HEIGHT,WIDTH,CHANNEL))\n",
    "    x = layers.Conv2D(32,(5,5),strides=(1,1),padding =\"same\",name= \"encoder_conv_1\",kernel_regularizer=\"l2\")(input_layer)\n",
    "    x = layers.LeakyReLU(name=\"encoder_leaky_1\")(x)\n",
    "    x = layers.MaxPooling2D()(x)\n",
    "\n",
    "\n",
    "    x = layers.Conv2D(64,(3,3),strides=(2,2),padding =\"same\",name= \"encoder_conv_2\",kernel_regularizer=\"l2\")(x)\n",
    "    x = layers.BatchNormalization(name=\"encoder_norm_1\")(x)\n",
    "    x = layers.LeakyReLU(name=\"encoder_leaky_2\")(x)\n",
    "\n",
    "    x = layers.MaxPooling2D()(x)\n",
    "\n",
    "\n",
    "    x = layers.Conv2D(128,(3,3),strides=(2,2),padding =\"same\",name= \"encoder_conv_3\",kernel_regularizer=\"l2\")(x)\n",
    "    x = layers.BatchNormalization(name=\"encoder_norm_2\")(x)\n",
    "    x = layers.LeakyReLU(name=\"encoder_leaky_3\")(x)\n",
    "    \n",
    "    # x = layers.MaxPooling2D()(x)\n",
    "    \n",
    "    x = layers.Conv2D(240,(3,3),strides=(2,2),padding =\"same\",name= \"encoder_conv_4\",kernel_regularizer=\"l2\")(x)\n",
    "    x = layers.BatchNormalization(name=\"encoder_norm_3\")(x)\n",
    "    x = layers.LeakyReLU(name=\"encoder_leaky_4\")(x)\n",
    "\n",
    "    # x = layers.Conv2D(512,(3,3),strides=(2,2),padding =\"same\",name= \"conv_5\",kernel_regularizer=\"l2\")(x)\n",
    "    # x = layers.BatchNormalization(name=\"norm_4\")(x)\n",
    "    # x = layers.LeakyReLU(name=\"leaky_5\")(x)\n",
    "\n",
    "    # x = layers.Conv2D(1024,(3,3),strides=(2,2),padding =\"same\",name= \"conv_6\",kernel_regularizer=\"l2\")(x)\n",
    "    # x = layers.BatchNormalization(name=\"norm_5\")(x)\n",
    "    # x = layers.LeakyReLU(name=\"leaky_6\")(x)\n",
    "\n",
    "    x = layers.GlobalAveragePooling2D(name = \"encoder_output\")(x)\n",
    "\n",
    "    return keras.Model(inputs =input_layer,outputs =x)"
   ]
  },
  {
   "cell_type": "code",
   "execution_count": 117,
   "metadata": {},
   "outputs": [
    {
     "name": "stdout",
     "output_type": "stream",
     "text": [
      "Model: \"model\"\n",
      "_________________________________________________________________\n",
      " Layer (type)                Output Shape              Param #   \n",
      "=================================================================\n",
      " encoder_input (InputLayer)  [(None, 360, 640, 3)]     0         \n",
      "                                                                 \n",
      " encoder_conv_1 (Conv2D)     (None, 360, 640, 32)      2432      \n",
      "                                                                 \n",
      " encoder_leaky_1 (LeakyReLU)  (None, 360, 640, 32)     0         \n",
      "                                                                 \n",
      " max_pooling2d (MaxPooling2D  (None, 180, 320, 32)     0         \n",
      " )                                                               \n",
      "                                                                 \n",
      " encoder_conv_2 (Conv2D)     (None, 90, 160, 64)       18496     \n",
      "                                                                 \n",
      " encoder_norm_1 (BatchNormal  (None, 90, 160, 64)      256       \n",
      " ization)                                                        \n",
      "                                                                 \n",
      " encoder_leaky_2 (LeakyReLU)  (None, 90, 160, 64)      0         \n",
      "                                                                 \n",
      " max_pooling2d_1 (MaxPooling  (None, 45, 80, 64)       0         \n",
      " 2D)                                                             \n",
      "                                                                 \n",
      " encoder_conv_3 (Conv2D)     (None, 23, 40, 128)       73856     \n",
      "                                                                 \n",
      " encoder_norm_2 (BatchNormal  (None, 23, 40, 128)      512       \n",
      " ization)                                                        \n",
      "                                                                 \n",
      " encoder_leaky_3 (LeakyReLU)  (None, 23, 40, 128)      0         \n",
      "                                                                 \n",
      " encoder_conv_4 (Conv2D)     (None, 12, 20, 240)       276720    \n",
      "                                                                 \n",
      " encoder_norm_3 (BatchNormal  (None, 12, 20, 240)      960       \n",
      " ization)                                                        \n",
      "                                                                 \n",
      " encoder_leaky_4 (LeakyReLU)  (None, 12, 20, 240)      0         \n",
      "                                                                 \n",
      " encoder_output (GlobalAvera  (None, 240)              0         \n",
      " gePooling2D)                                                    \n",
      "                                                                 \n",
      "=================================================================\n",
      "Total params: 373,232\n",
      "Trainable params: 372,368\n",
      "Non-trainable params: 864\n",
      "_________________________________________________________________\n"
     ]
    }
   ],
   "source": [
    "K.clear_session()\n",
    "encoder = Encoder()\n",
    "encoder.summary()"
   ]
  },
  {
   "cell_type": "markdown",
   "metadata": {},
   "source": [
    "## 1.3 Discrimator "
   ]
  },
  {
   "cell_type": "markdown",
   "metadata": {},
   "source": [
    "### 1.3.1 Feature Extractor"
   ]
  },
  {
   "cell_type": "code",
   "execution_count": 118,
   "metadata": {},
   "outputs": [],
   "source": [
    "def Feature_Extractor():\n",
    "    input_layer = layers.Input(name=\"extractor_input\",shape=(HEIGHT,WIDTH,CHANNEL))\n",
    "    x = layers.Conv2D(32,(5,5),strides=(1,1),padding =\"same\",name= \"extractor_conv_1\",kernel_regularizer=\"l2\")(input_layer)\n",
    "    x = layers.LeakyReLU(name=\"extractor_leaky_1\")(x)\n",
    "    x = layers.MaxPooling2D()(x)\n",
    "\n",
    "\n",
    "    x = layers.Conv2D(64,(3,3),strides=(2,2),padding =\"same\",name= \"extractor_conv_2\",kernel_regularizer=\"l2\")(x)\n",
    "    x = layers.BatchNormalization(name=\"extractor_norm_1\")(x)\n",
    "    x = layers.LeakyReLU(name=\"extractor_leaky_2\")(x)\n",
    "\n",
    "    x = layers.MaxPooling2D()(x)\n",
    "\n",
    "\n",
    "    x = layers.Conv2D(128,(3,3),strides=(2,2),padding =\"same\",name= \"extractor_conv_3\",kernel_regularizer=\"l2\")(x)\n",
    "    x = layers.BatchNormalization(name=\"extractor_norm_2\")(x)\n",
    "    x = layers.LeakyReLU(name=\"extractor_leaky_3\")(x)\n",
    "    \n",
    "    # x = layers.MaxPooling2D()(x)\n",
    "    \n",
    "    x = layers.Conv2D(240,(3,3),strides=(2,2),padding =\"same\",name= \"extractor_conv_4\",kernel_regularizer=\"l2\")(x)\n",
    "    x = layers.BatchNormalization(name=\"extractor_norm_3\")(x)\n",
    "    x = layers.LeakyReLU(name=\"extractor_leaky_4\")(x)\n",
    "\n",
    "    # x = layers.Conv2D(512,(3,3),strides=(2,2),padding =\"same\",name= \"conv_5\",kernel_regularizer=\"l2\")(x)\n",
    "    # x = layers.BatchNormalization(name=\"norm_4\")(x)\n",
    "    # x = layers.LeakyReLU(name=\"leaky_5\")(x)\n",
    "\n",
    "    # x = layers.Conv2D(1024,(3,3),strides=(2,2),padding =\"same\",name= \"conv_6\",kernel_regularizer=\"l2\")(x)\n",
    "    # x = layers.BatchNormalization(name=\"norm_5\")(x)\n",
    "    # x = layers.LeakyReLU(name=\"leaky_6\")(x)\n",
    "\n",
    "    # x = layers.GlobalAveragePooling2D(name = \"extractor_output\")(x)\n",
    "\n",
    "    return keras.Model(inputs =input_layer,outputs =x)"
   ]
  },
  {
   "cell_type": "code",
   "execution_count": 119,
   "metadata": {},
   "outputs": [
    {
     "name": "stdout",
     "output_type": "stream",
     "text": [
      "Model: \"model_1\"\n",
      "_________________________________________________________________\n",
      " Layer (type)                Output Shape              Param #   \n",
      "=================================================================\n",
      " extractor_input (InputLayer  [(None, 360, 640, 3)]    0         \n",
      " )                                                               \n",
      "                                                                 \n",
      " extractor_conv_1 (Conv2D)   (None, 360, 640, 32)      2432      \n",
      "                                                                 \n",
      " extractor_leaky_1 (LeakyReL  (None, 360, 640, 32)     0         \n",
      " U)                                                              \n",
      "                                                                 \n",
      " max_pooling2d_2 (MaxPooling  (None, 180, 320, 32)     0         \n",
      " 2D)                                                             \n",
      "                                                                 \n",
      " extractor_conv_2 (Conv2D)   (None, 90, 160, 64)       18496     \n",
      "                                                                 \n",
      " extractor_norm_1 (BatchNorm  (None, 90, 160, 64)      256       \n",
      " alization)                                                      \n",
      "                                                                 \n",
      " extractor_leaky_2 (LeakyReL  (None, 90, 160, 64)      0         \n",
      " U)                                                              \n",
      "                                                                 \n",
      " max_pooling2d_3 (MaxPooling  (None, 45, 80, 64)       0         \n",
      " 2D)                                                             \n",
      "                                                                 \n",
      " extractor_conv_3 (Conv2D)   (None, 23, 40, 128)       73856     \n",
      "                                                                 \n",
      " extractor_norm_2 (BatchNorm  (None, 23, 40, 128)      512       \n",
      " alization)                                                      \n",
      "                                                                 \n",
      " extractor_leaky_3 (LeakyReL  (None, 23, 40, 128)      0         \n",
      " U)                                                              \n",
      "                                                                 \n",
      " extractor_conv_4 (Conv2D)   (None, 12, 20, 240)       276720    \n",
      "                                                                 \n",
      " extractor_norm_3 (BatchNorm  (None, 12, 20, 240)      960       \n",
      " alization)                                                      \n",
      "                                                                 \n",
      " extractor_leaky_4 (LeakyReL  (None, 12, 20, 240)      0         \n",
      " U)                                                              \n",
      "                                                                 \n",
      "=================================================================\n",
      "Total params: 373,232\n",
      "Trainable params: 372,368\n",
      "Non-trainable params: 864\n",
      "_________________________________________________________________\n"
     ]
    }
   ],
   "source": [
    "ex = Feature_Extractor()\n",
    "ex.summary()"
   ]
  },
  {
   "cell_type": "markdown",
   "metadata": {},
   "source": [
    "### 1.3.2 Discrimator "
   ]
  },
  {
   "cell_type": "code",
   "execution_count": 120,
   "metadata": {},
   "outputs": [],
   "source": [
    "def Discrimator():\n",
    "    feature_extractor = Feature_Extractor()\n",
    "\n",
    "    input_layer= layers.Input(name=\"input\",shape=(HEIGHT,WIDTH,CHANNEL))\n",
    "    x = feature_extractor(input_layer)\n",
    "\n",
    "    x = layers.GlobalAveragePooling2D(name=\"glb_avg\")(x)\n",
    "    x = layers.Dense(1,activation = \"sigmoid\",name=\"d_output\")(x)\n",
    "    return keras.Model(input_layer,x)"
   ]
  },
  {
   "cell_type": "code",
   "execution_count": 121,
   "metadata": {},
   "outputs": [
    {
     "name": "stdout",
     "output_type": "stream",
     "text": [
      "Model: \"model_3\"\n",
      "_________________________________________________________________\n",
      " Layer (type)                Output Shape              Param #   \n",
      "=================================================================\n",
      " input (InputLayer)          [(None, 360, 640, 3)]     0         \n",
      "                                                                 \n",
      " model_2 (Functional)        (None, 12, 20, 240)       373232    \n",
      "                                                                 \n",
      " glb_avg (GlobalAveragePooli  (None, 240)              0         \n",
      " ng2D)                                                           \n",
      "                                                                 \n",
      " d_output (Dense)            (None, 1)                 241       \n",
      "                                                                 \n",
      "=================================================================\n",
      "Total params: 373,473\n",
      "Trainable params: 372,609\n",
      "Non-trainable params: 864\n",
      "_________________________________________________________________\n"
     ]
    }
   ],
   "source": [
    "d = Discrimator()\n",
    "d.summary()"
   ]
  },
  {
   "cell_type": "markdown",
   "metadata": {},
   "source": [
    "### 1.4 Prepare all Elements"
   ]
  },
  {
   "cell_type": "code",
   "execution_count": 122,
   "metadata": {},
   "outputs": [],
   "source": [
    "K.clear_session()\n",
    "\n",
    "g_e = Generator_Encoder()\n",
    "##\n",
    "g = Generator()\n",
    "\n",
    "##\n",
    "encoder = Encoder()\n",
    "\n",
    "##\n",
    "\n",
    "feature_extractor = Feature_Extractor()\n",
    "\n",
    "##\n",
    "\n",
    "d = Discrimator()"
   ]
  },
  {
   "cell_type": "markdown",
   "metadata": {},
   "source": [
    "# 2 GAN Trainer"
   ]
  },
  {
   "cell_type": "markdown",
   "metadata": {},
   "source": [
    "## 2.1 Three Losses"
   ]
  },
  {
   "cell_type": "code",
   "execution_count": 123,
   "metadata": {},
   "outputs": [],
   "source": [
    "class AdvLoss(keras.layers.Layer):\n",
    "    def __init__(self,**kwargs):\n",
    "        super(AdvLoss,self).__init__(**kwargs)\n",
    "    def call(self,x,mask=None):\n",
    "        ori_feature = feature_extractor(x[0])\n",
    "        gan_feature = feature_extractor(x[1])\n",
    "\n",
    "        return K.mean(K.square(ori_feature-K.mean(gan_feature,axis=0) ) )\n",
    "\n",
    "    def get_output_shape_for(self,input_shape):\n",
    "        return (input_shape[0][0],3)\n",
    "\n",
    "\n",
    "class CntLoss(keras.layers.Layer):\n",
    "    def __init__(self,**kwargs) :\n",
    "        super(CntLoss,self).__init__(**kwargs)\n",
    "        \n",
    "    def call(self,x,mask=None):\n",
    "        ori = x[0]\n",
    "        gan = x[1]\n",
    "\n",
    "        return K.mean(K.abs(ori-gan))\n",
    "\n",
    "    def get_output_shape_for(self,input_shape):\n",
    "        return (input_shape[0][0],3)\n",
    "\n",
    "class EncLoss(keras.layers.Layer):\n",
    "    def __init__(self,**kwargs):\n",
    "        super(EncLoss,self).__init__(**kwargs)\n",
    "    \n",
    "    def call(self,x,mask=None):\n",
    "        ori = x[0]\n",
    "        gan = x[1]\n",
    "        \n",
    "        return K.mean(K.square( g_e(ori)-encoder(gan) ))\n",
    "    \n",
    "    def get_output_shape_for(self,input_shape):\n",
    "        return (input_shape[0][0],3)\n",
    "\n",
    "    "
   ]
  },
  {
   "cell_type": "markdown",
   "metadata": {},
   "source": [
    "## 2.2 Compile GAN Trainer"
   ]
  },
  {
   "cell_type": "code",
   "execution_count": 124,
   "metadata": {},
   "outputs": [],
   "source": [
    "input_layer = layers.Input(name = \"input\",shape=(HEIGHT,WIDTH,CHANNEL))\n",
    "gan = g(input_layer)\n",
    "\n",
    "adv_loss = AdvLoss(name = \"adv_loss\")([input_layer,gan])\n",
    "cnt_loss = CntLoss(name=\"cnt_loss\")([input_layer,gan])\n",
    "enc_loss = EncLoss(name=\"enc_loss\")([input_layer,gan])\n",
    "\n",
    "gan_trainer = keras.models.Model(input_layer,[adv_loss,cnt_loss,enc_loss])\n",
    "\n",
    "def loss(yt,yp):\n",
    "    return yp\n",
    "\n",
    "losses = {\n",
    "    \"adv_loss\":loss,\n",
    "    \"cnt_loss\":loss,\n",
    "    \"enc_loss\":loss\n",
    "}\n",
    "\n",
    "lossWeights = {\"cnt_loss\":20.0,\"adv_loss\":1.0,\"enc_loss\":1.0}\n",
    "\n",
    "##Compile\n",
    "gan_trainer.compile(optimizer=\"adam\",loss= losses,loss_weights=lossWeights)"
   ]
  },
  {
   "cell_type": "code",
   "execution_count": 125,
   "metadata": {},
   "outputs": [
    {
     "name": "stdout",
     "output_type": "stream",
     "text": [
      "Model: \"model_7\"\n",
      "__________________________________________________________________________________________________\n",
      " Layer (type)                   Output Shape         Param #     Connected to                     \n",
      "==================================================================================================\n",
      " input (InputLayer)             [(None, 360, 640, 3  0           []                               \n",
      "                                )]                                                                \n",
      "                                                                                                  \n",
      " model_2 (Functional)           (None, 360, 640, 3)  15342851    ['input[0][0]']                  \n",
      "                                                                                                  \n",
      " adv_loss (AdvLoss)             ()                   0           ['input[0][0]',                  \n",
      "                                                                  'model_2[0][0]']                \n",
      "                                                                                                  \n",
      " cnt_loss (CntLoss)             ()                   0           ['input[0][0]',                  \n",
      "                                                                  'model_2[0][0]']                \n",
      "                                                                                                  \n",
      " enc_loss (EncLoss)             ()                   0           ['input[0][0]',                  \n",
      "                                                                  'model_2[0][0]']                \n",
      "                                                                                                  \n",
      "==================================================================================================\n",
      "Total params: 15,342,851\n",
      "Trainable params: 15,341,987\n",
      "Non-trainable params: 864\n",
      "__________________________________________________________________________________________________\n"
     ]
    }
   ],
   "source": [
    "gan_trainer.summary()"
   ]
  },
  {
   "cell_type": "markdown",
   "metadata": {},
   "source": [
    "# 3 Discriminator"
   ]
  },
  {
   "cell_type": "code",
   "execution_count": 126,
   "metadata": {},
   "outputs": [
    {
     "name": "stdout",
     "output_type": "stream",
     "text": [
      "Model: \"model_6\"\n",
      "_________________________________________________________________\n",
      " Layer (type)                Output Shape              Param #   \n",
      "=================================================================\n",
      " input (InputLayer)          [(None, 360, 640, 3)]     0         \n",
      "                                                                 \n",
      " model_5 (Functional)        (None, 12, 20, 240)       373232    \n",
      "                                                                 \n",
      " glb_avg (GlobalAveragePooli  (None, 240)              0         \n",
      " ng2D)                                                           \n",
      "                                                                 \n",
      " d_output (Dense)            (None, 1)                 241       \n",
      "                                                                 \n",
      "=================================================================\n",
      "Total params: 373,473\n",
      "Trainable params: 372,609\n",
      "Non-trainable params: 864\n",
      "_________________________________________________________________\n"
     ]
    }
   ],
   "source": [
    "d.summary()"
   ]
  },
  {
   "cell_type": "code",
   "execution_count": 127,
   "metadata": {},
   "outputs": [],
   "source": [
    "d.compile(optimizer=\"adam\",loss = \"binary_crossentropy\")"
   ]
  },
  {
   "cell_type": "markdown",
   "metadata": {},
   "source": [
    "# 4 Load DATA"
   ]
  },
  {
   "cell_type": "code",
   "execution_count": 128,
   "metadata": {},
   "outputs": [],
   "source": [
    "##Generate Path\n",
    "path = 'E:\\\\Monument\\\\Train\\\\real'\n",
    "file_list = os.listdir(path)\n",
    "path_list = [os.path.join(path,name) for name in file_list]\n",
    "\n",
    "\n",
    "## Shuffle the dataset \n",
    "import random\n",
    "random.shuffle(path_list)\n",
    "\n",
    "## generate data set \n",
    "from keras.utils import load_img,img_to_array\n",
    "Dataset = [img_to_array(load_img(image))/255 for image in path_list]"
   ]
  },
  {
   "cell_type": "code",
   "execution_count": 129,
   "metadata": {},
   "outputs": [
    {
     "name": "stdout",
     "output_type": "stream",
     "text": [
      "Shape of Dataset (107, 360, 640, 3)\n",
      "Length of dataset 107\n",
      "To prove it has been normalized 1.0\n"
     ]
    }
   ],
   "source": [
    "Dataset = np.array(Dataset)\n",
    "print(f\"Shape of Dataset {Dataset.shape}\")\n",
    "print(f\"Length of dataset {len(Dataset)}\")\n",
    "print(f\"To prove it has been normalized {Dataset.max()}\")"
   ]
  },
  {
   "cell_type": "markdown",
   "metadata": {},
   "source": [
    "# 5 Training"
   ]
  },
  {
   "cell_type": "code",
   "execution_count": 130,
   "metadata": {},
   "outputs": [],
   "source": [
    "niter = 300\n",
    "bz = 4"
   ]
  },
  {
   "cell_type": "code",
   "execution_count": 131,
   "metadata": {},
   "outputs": [],
   "source": [
    "def get_data_generator(data,batch_size=8):\n",
    "    data_len = len(data)\n",
    "    cnt = 0\n",
    "    while True:\n",
    "        idxes = np.arange(data_len)\n",
    "        np.random.shuffle(idxes)\n",
    "        cnt +=1\n",
    "        for i in range(int(np.ceil(data_len/batch_size))):\n",
    "            train_x = np.take(data,idxes[i*batch_size:(i+1)*batch_size],axis=0)\n",
    "            y = np.ones(len(train_x))\n",
    "            yield train_x, [y,y,y]"
   ]
  },
  {
   "cell_type": "code",
   "execution_count": 132,
   "metadata": {},
   "outputs": [],
   "source": [
    "train_data_generator = get_data_generator(Dataset,bz)"
   ]
  },
  {
   "cell_type": "code",
   "execution_count": 133,
   "metadata": {},
   "outputs": [
    {
     "name": "stdout",
     "output_type": "stream",
     "text": [
      "Iter:1,g_loss:[20.054014205932617, 0.5498834252357483, 0.5398935675621033, 0.09637761861085892],d_loss3.6109747886657715\n",
      "Iter:51,g_loss:[3.736179828643799, 0.3658609390258789, 0.08559957146644592, 0.01787579245865345],d_loss1.3142056465148926\n",
      "Iter:101,g_loss:[3.640662670135498, 0.29672396183013916, 0.1101144552230835, 0.11720923334360123],d_loss0.8956353068351746\n",
      "Iter:151,g_loss:[2.349825859069824, 0.24619972705841064, 0.06561513245105743, 0.04073888063430786],d_loss0.5493030548095703\n",
      "Iter:201,g_loss:[2.8432915210723877, 0.24237868189811707, 0.0965675637125969, 0.03376857936382294],d_loss0.36141660809516907\n",
      "Iter:251,g_loss:[2.108569860458374, 0.1967536062002182, 0.06607308983802795, 0.019816571846604347],d_loss0.25023314356803894\n"
     ]
    }
   ],
   "source": [
    "for i in range(niter):\n",
    "    x,y = train_data_generator.__next__()\n",
    "\n",
    "    d.trainable = True\n",
    "    fake_x = g.predict(x,verbose = 0)\n",
    "\n",
    "    d_x = np.concatenate([x,fake_x],axis=0)\n",
    "    d_y = np.concatenate([np.zeros(len(x)),np.ones(len(fake_x))],axis=0)\n",
    "\n",
    "    d_loss = d.train_on_batch(d_x,d_y)\n",
    "\n",
    "    d.trainable = False\n",
    "\n",
    "    g_loss = gan_trainer.train_on_batch(x,y)\n",
    "\n",
    "    if i %50 ==0:\n",
    "        print(f\"Iter:{i+1},g_loss:{g_loss},d_loss{d_loss}\")"
   ]
  },
  {
   "cell_type": "code",
   "execution_count": 218,
   "metadata": {},
   "outputs": [],
   "source": [
    "path_abnormal =r\"E:\\Monument\\Train\\abnormal\"\n",
    "test_list = os.listdir(path_abnormal)\n",
    "list_abnormal = [os.path.join(path_abnormal,test) for test in test_list ]\n",
    "test_img = [img_to_array(load_img(abnormal)) for abnormal in list_abnormal]\n",
    "test_img = np.array(test_img)"
   ]
  },
  {
   "cell_type": "code",
   "execution_count": 219,
   "metadata": {},
   "outputs": [
    {
     "data": {
      "text/plain": [
       "(45, 360, 640, 3)"
      ]
     },
     "execution_count": 219,
     "metadata": {},
     "output_type": "execute_result"
    }
   ],
   "source": [
    "test_img.shape"
   ]
  },
  {
   "cell_type": "code",
   "execution_count": 221,
   "metadata": {},
   "outputs": [
    {
     "name": "stdout",
     "output_type": "stream",
     "text": [
      "2/2 [==============================] - 0s 309ms/step\n",
      "2/2 [==============================] - 0s 135ms/step\n",
      "2/2 [==============================] - 0s 69ms/step\n",
      "2/2 [==============================] - 0s 86ms/step\n",
      "(45,)\n",
      "4/4 [==============================] - 1s 141ms/step\n",
      "4/4 [==============================] - 0s 77ms/step\n",
      "4/4 [==============================] - 0s 77ms/step\n"
     ]
    }
   ],
   "source": [
    "encoded = g_e.predict(test_img)\n",
    "gan_x = g.predict(test_img)\n",
    "encoded_gan = g_e.predict(gan_x)\n",
    "disr = d.predict(gan_x)\n",
    "score = np.sum(np.absolute(encoded-encoded_gan),axis=-1)\n",
    "score = (score - np.min(score))/(np.max(score)-np.min(score))\n",
    "print(score.shape)\n",
    "\n",
    "gan_x_true = g.predict(Dataset)\n",
    "encoded_true = g_e.predict(Dataset)\n",
    "encoded_gan_true = g_e.predict(gan_x_true)\n",
    "score_true = np.sum(np.absolute(encoded_true-encoded_gan_true),axis=-1)\n",
    "score_true = (score_true - np.min(score_true))/(np.max(score_true)-np.min(score_true))"
   ]
  },
  {
   "cell_type": "code",
   "execution_count": 217,
   "metadata": {},
   "outputs": [],
   "source": [
    "# plt.scatter(range(len(test_img)),score,c=[\"blue\" if x >=0.5 else \"red\" for x in score])"
   ]
  },
  {
   "cell_type": "code",
   "execution_count": 228,
   "metadata": {},
   "outputs": [],
   "source": [
    "i = 5\n",
    "image = np.reshape(gan_x[i],[HEIGHT,WIDTH,CHANNEL])\n",
    "# image *= 255.0\n",
    "image = keras.utils.array_to_img(image)\n",
    "image.save(\"gan.jpg\")"
   ]
  },
  {
   "cell_type": "code",
   "execution_count": 227,
   "metadata": {},
   "outputs": [],
   "source": [
    "img.save(\"org.jpg\")"
   ]
  },
  {
   "cell_type": "code",
   "execution_count": 192,
   "metadata": {},
   "outputs": [
    {
     "name": "stdout",
     "output_type": "stream",
     "text": [
      "4/4 [==============================] - 1s 251ms/step\n",
      "4/4 [==============================] - 0s 90ms/step\n"
     ]
    }
   ],
   "source": [
    "gan_true = g.predict(Dataset)\n",
    "true_value = d.predict(gan_true)\n"
   ]
  },
  {
   "cell_type": "code",
   "execution_count": 216,
   "metadata": {},
   "outputs": [
    {
     "data": {
      "image/png": "[encoded data removed]",
      "text/plain": [
       "<Figure size 576x576 with 1 Axes>"
      ]
     },
     "metadata": {
      "needs_background": "light"
     },
     "output_type": "display_data"
    }
   ],
   "source": [
    "plt.figure(figsize=(8,8))\n",
    "plt.plot(range(len(test_img)),disr,\"ro\",lw = 1.5,label=\"Discrimator Score on Abnormal\")\n",
    "plt.plot(range(len(Dataset)),true_value,\"bs\",lw=1.5,label=\"Discrimator Score on Normal\")\n",
    "plt.legend()\n",
    "plt.grid()\n",
    "plt.xlabel(\"No of Sample\")\n",
    "plt.ylabel(\"Propabilty\")\n",
    "plt.savefig(\"Discrimator Result 300epoch\")"
   ]
  },
  {
   "cell_type": "code",
   "execution_count": 222,
   "metadata": {},
   "outputs": [
    {
     "data": {
      "image/png": "[encoded data removed]",
      "text/plain": [
       "<Figure size 576x576 with 1 Axes>"
      ]
     },
     "metadata": {
      "needs_background": "light"
     },
     "output_type": "display_data"
    }
   ],
   "source": [
    "plt.figure(figsize=(8,8))\n",
    "plt.plot(range(len(test_img)),score,\"ro\",lw = 1.5,label=\"Adv Score on Abnormal\")\n",
    "plt.plot(range(len(Dataset)),score_true,\"bs\",lw=1.5,label=\"Adv Score on Normal\")\n",
    "plt.legend()\n",
    "plt.grid()\n",
    "plt.xlabel(\"No of Sample\")\n",
    "plt.ylabel(\"Propabilty\")\n",
    "plt.savefig(\"Adv  Result 300epoch\")"
   ]
  },
  {
   "cell_type": "code",
   "execution_count": 232,
   "metadata": {},
   "outputs": [
    {
     "name": "stdout",
     "output_type": "stream",
     "text": [
      "WARNING:tensorflow:Compiled the loaded model, but the compiled metrics have yet to be built. `model.compile_metrics` will be empty until you train or evaluate the model.\n",
      "WARNING:tensorflow:Compiled the loaded model, but the compiled metrics have yet to be built. `model.compile_metrics` will be empty until you train or evaluate the model.\n"
     ]
    }
   ],
   "source": [
    "g.save(r\"E:\\Monument\\Model\\Gan.h5\")\n",
    "g.save_weights(\"E:\\Monument\\Model\\Gan_weight.h5\")\n",
    "\n",
    "g_e.save(r\"E:\\Monument\\Model\\Gan_Encoder.h5\")\n",
    "g_e.save_weights(\"E:\\Monument\\Model\\Gan_Encoder_weight.h5\")\n",
    "\n",
    "d.save(r\"E:\\Monument\\Model\\Discriminator.h5\")\n",
    "\n",
    "d.save_weights(\"E:\\Monument\\Model\\Discriminator_weight.h5\")"
   ]
  },
  {
   "cell_type": "code",
   "execution_count": null,
   "metadata": {},
   "outputs": [],
   "source": []
  }
 ],
 "metadata": {
  "kernelspec": {
   "display_name": "Python 3.9.11 64-bit",
   "language": "python",
   "name": "python3"
  },
  "language_info": {
   "codemirror_mode": {
    "name": "ipython",
    "version": 3
   },
   "file_extension": ".py",
   "mimetype": "text/x-python",
   "name": "python",
   "nbconvert_exporter": "python",
   "pygments_lexer": "ipython3",
   "version": "3.9.11"
  },
  "orig_nbformat": 4,
  "vscode": {
   "interpreter": {
    "hash": "e450050b432e843bda3c41bf3272c133bfc370a7003f3e377e27f87a49ce1127"
   }
  }
 },
 "nbformat": 4,
 "nbformat_minor": 2
}
